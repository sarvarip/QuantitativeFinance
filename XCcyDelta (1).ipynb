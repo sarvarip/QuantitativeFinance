{
 "cells": [
  {
   "cell_type": "markdown",
   "id": "97abde70-e9b9-42d9-8ec2-580cbd0d9e68",
   "metadata": {
    "jp-MarkdownHeadingCollapsed": true
   },
   "source": [
    "## Necessary functions"
   ]
  },
  {
   "cell_type": "code",
   "execution_count": 2,
   "id": "2f1a7709-f97e-4b45-a46f-e0c7329bc54a",
   "metadata": {},
   "outputs": [],
   "source": [
    "# import pandas as pd\n",
    "# trades = pd.read_parquet('trades_2023_09_28.parquet', engine='pyarrow')\n",
    "# rates = pd.read_parquet('rates_2023_09_28_2.parquet', engine='pyarrow')\n",
    "# ccy_details = pd.read_parquet('ccy_details.parquet', engine='pyarrow')"
   ]
  },
  {
   "cell_type": "code",
   "execution_count": 6,
   "id": "2abbf541-d750-4df5-8983-c1884b8bbdaa",
   "metadata": {},
   "outputs": [
    {
     "name": "stdout",
     "output_type": "stream",
     "text": [
      "[2023-12-04 12:27:06.534380] Connected successfully.\n"
     ]
    }
   ],
   "source": [
    "def zeus_execution(sql_qr):\n",
    "    with zeus() as cur:\n",
    "        df = execute_sql(cur,sql_qr,None)\n",
    "    return df\n",
    "\n",
    "query = '''\n",
    "select *\n",
    "from trading.conventional_fx_pairs'''\n",
    "\n",
    "conventional_fx_pairs = zeus_execution(query).set_index('currency')"
   ]
  },
  {
   "cell_type": "code",
   "execution_count": 52,
   "id": "77499a2f-9854-43ac-9037-ff9e9103c395",
   "metadata": {},
   "outputs": [],
   "source": [
    "def calculate_delta(row, base = None, counter = None, amount = None):\n",
    "\n",
    "    if base is None:\n",
    "        base = row['base_ccy']\n",
    "    if counter is None:\n",
    "        counter = row['counter_ccy']\n",
    "    if amount is None:\n",
    "        amount = row['total_base_amount']\n",
    "    pair = base + counter\n",
    "\n",
    "    # This filters out USDUSD and BSCBSC\n",
    "    # Where BSC = balance sheet currency\n",
    "    if base == counter:\n",
    "        return\n",
    "\n",
    "    def get_base_counter_rate():\n",
    "        #by default\n",
    "        usd_base = row['rateUSDBASE']\n",
    "        usd_counter = row['rateUSDCOUNTER']\n",
    "        #rewrite if in recursion and base is not original base\n",
    "        if base != row['base_ccy']:\n",
    "            if base == row['counter_ccy']:\n",
    "                usd_base = row['rateUSDCOUNTER']\n",
    "            else:\n",
    "                if base == 'USD':\n",
    "                    usd_base = 1\n",
    "                else:\n",
    "                    base_colname = 'rateUSD' + base\n",
    "                    usd_base = row[base_colname]\n",
    "        #rewrite if in recursion and counter is not original counter\n",
    "        if counter != row['counter_ccy']:\n",
    "            if counter == row['base_ccy']:\n",
    "                usd_counter = row['rateUSDBASE']\n",
    "            else:\n",
    "                if counter == 'USD':\n",
    "                    usd_counter = 1\n",
    "                else:\n",
    "                    counter_colname = 'rateUSD' + counter\n",
    "                    usd_counter = row[counter_colname]\n",
    "        return usd_counter / usd_base\n",
    "\n",
    "    def get_base_trade_against_rate():\n",
    "        #by default\n",
    "        usd_base = row['rateUSDBASE']\n",
    "        #rewrite if in recursion and base is not original base\n",
    "        if base != row['base_ccy']:\n",
    "            if base == row['counter_ccy']:\n",
    "                usd_base = row['rateUSDCOUNTER']\n",
    "            else:\n",
    "                if base == 'USD':\n",
    "                    usd_base = 1\n",
    "                else:\n",
    "                    base_colname = 'rateUSD' + base\n",
    "                    usd_base = row[base_colname]\n",
    "        if base_trades_against.upper() == 'USD':\n",
    "            return 1/usd_base\n",
    "        return row['rateUSD' + base_trades_against.upper()] / usd_base\n",
    "\n",
    "    def get_counter_trade_against_rate():\n",
    "        #by default\n",
    "        usd_counter = row['rateUSDCOUNTER']\n",
    "        #rewrite if in recursion and counter is not original counter\n",
    "        if counter != row['counter_ccy']:\n",
    "            if counter == row['base_ccy']:\n",
    "                usd_counter = row['rateUSDBASE']\n",
    "            else:\n",
    "                if counter == 'USD':\n",
    "                    usd_counter = 1\n",
    "                else:\n",
    "                    counter_colname = 'rateUSD' + counter\n",
    "                    usd_counter = row[counter_colname]\n",
    "        if counter_trades_against.upper() == 'USD':\n",
    "            return 1/usd_counter\n",
    "        return row['rateUSD' + counter_trades_against.upper()] / usd_counter\n",
    "\n",
    "    def get_any_new_mark_rate(base, counter): \n",
    "        pairname = base + counter\n",
    "        if pairname in new_markrate_dict.keys():\n",
    "            return new_markrate_dict[pairname]\n",
    "        usd_base = new_markrate_dict[('USD' + base)]\n",
    "        usd_counter = new_markrate_dict[('USD' + counter)]\n",
    "        new_markrate_dict[pairname] = 1/usd_base * usd_counter #better to add so no need to re-calculate when it's old_markrate (next iteration)\n",
    "        return new_markrate_dict[pairname]\n",
    "\n",
    "    def get_usd_base_mark_rate():\n",
    "        return get_any_new_mark_rate('USD', base)\n",
    "\n",
    "    def get_usd_counter_mark_rate():\n",
    "        return get_any_new_mark_rate('USD', counter)\n",
    "\n",
    "    def get_base_counter_mark_rate(): #this is the marking rate (some point after the trade)\n",
    "        return get_any_new_mark_rate(base, counter)\n",
    "\n",
    "    def get_counter_gbp_mark_rate():\n",
    "        return get_any_new_mark_rate(counter, 'GBP')\n",
    "     \n",
    "    # Conventional pair for base currency\n",
    "    try:\n",
    "        base_conv_base = conventional_fx_pairs.at[base, 'base']\n",
    "    except:\n",
    "        print('Could not get rate for base currency ' + base + ' !')\n",
    "        return\n",
    "    base_conv_counter = conventional_fx_pairs.at[base, 'counter']\n",
    "     \n",
    "    # Conventional pair for counter currency\n",
    "    try:\n",
    "        counter_conv_base = conventional_fx_pairs.at[counter, 'base']\n",
    "    except:\n",
    "        print('Could not get rate for counter currency ' + counter + ' !')\n",
    "        return\n",
    "    counter_conv_counter = conventional_fx_pairs.at[counter, 'counter']\n",
    "     \n",
    "    # Check if the pair is already conventional\n",
    "    if (base == base_conv_base and counter == base_conv_counter) or \\\n",
    "        (base == counter_conv_base and counter == counter_conv_counter):\n",
    "        #Debug\n",
    "        #print('Adding ' + str(amount) + ' to pair ' + pair + ', market rate moved to ' + str(get_base_counter_mark_rate()) + ' from ' + str(get_base_counter_rate()))\n",
    "        # This will not happen as because if base and counter trades against the same, we don't recurse, and also because longest distance to USD thru one currecy (second is USD) and we terminate if pair is already conventional\n",
    "        # if pair in row.keys():\n",
    "        #     if ~row[pair].isnull():\n",
    "        #         print('PAIR ALREADY ADDED TO THIS ROW')\n",
    "        delta_in_counter = float(amount) * (get_base_counter_mark_rate() - get_base_counter_rate()) #calculating delta in counter ccy amount\n",
    "        #Debug\n",
    "        #print('Delta in ' + counter + ' ccy amount: ' + str(delta_in_counter))\n",
    "        #print('Rate for ' + counter + 'GBP' + ' : ' + str(get_counter_gbp_mark_rate()))\n",
    "        positions_dict[pair] = positions_dict.get(pair, 0) + float(amount)\n",
    "        cum_deltas_dict[pair] = cum_deltas_dict.get(pair, 0) + delta_in_counter * get_counter_gbp_mark_rate() #delta on pair already + delta in GBP amount for current trade\n",
    "        return\n",
    "     \n",
    "    # Check if the pair is inverted conventional meaning CounterBase is the conventional pair\n",
    "    if (base == base_conv_counter and counter == base_conv_base) or \\\n",
    "        (base == counter_conv_counter and counter == counter_conv_base):\n",
    "        # Invert currency pair, invert amount\n",
    "        invpair = counter + base\n",
    "        invamount = float(-amount) * get_base_counter_rate()\n",
    "        #Debug\n",
    "        #print('Adding ' + str(invamount) + ' to pair ' + invpair + ', market rate moved to ' + str(1/get_base_counter_mark_rate()) + ' from ' + str(1/get_base_counter_rate()))\n",
    "        delta_in_base = float(invamount) * (1/get_base_counter_mark_rate() - 1/get_base_counter_rate()) #calculating delta in base ccy amount\n",
    "        #Debug\n",
    "        #print('Delta in ' + base + ' ccy amount: ' + str(delta_in_base))\n",
    "        #print('Rate for ' + counter + 'GBP' + ' : ' + str(get_counter_gbp_mark_rate()))\n",
    "        #print('Rate for ' + base + 'GBP' + ' : ' + str(get_base_counter_mark_rate() * get_counter_gbp_mark_rate()))\n",
    "        positions_dict[invpair] = positions_dict.get(invpair, 0) + float(invamount)\n",
    "        cum_deltas_dict[invpair] = cum_deltas_dict.get(invpair, 0) + delta_in_base * get_base_counter_mark_rate() * get_counter_gbp_mark_rate() #delta on pair already + delta in GBP amount for current trade\n",
    "        return\n",
    "     \n",
    "    # Need to break down into components\n",
    "    # At this stage result won't be a single pair\n",
    "    # Can be 2, 3, or 4 pairs\n",
    "     \n",
    "    # 2 if base and counter trade against the same currency\n",
    "    # 3 if base and counter trade against different currencies\n",
    "    #     but one of them (trade against) is USD\n",
    "    # 4 if base and counter trade against different currencies\n",
    "    #     and both of them (trade against) are non-USD\n",
    "     \n",
    "    base_trades_against = conventional_fx_pairs.at[base, 'trades_against']\n",
    "    counter_trades_against = conventional_fx_pairs.at[counter, 'trades_against']\n",
    "          \n",
    "    # This can be done without recursion with one more\n",
    "    # if statement per pair\n",
    "    calculate_delta(row, base, base_trades_against, amount)\n",
    "    counter_amount = float(-amount) * get_base_counter_rate()\n",
    "    calculate_delta(row, counter, counter_trades_against, counter_amount)\n",
    "     \n",
    "    trade_against_same = base_trades_against == counter_trades_against\n",
    "     \n",
    "    if not trade_against_same:\n",
    "        # If we are here, means it's 3 or 4 pairs in result\n",
    "        # \"ta\" stands here for trades_against\n",
    "        # ta_trades_against is second iteration of \"trades_against\"\n",
    "        base_ta_trades_against = \\\n",
    "            conventional_fx_pairs.at[base_trades_against, 'trades_against']\n",
    "        counter_ta_trades_against = \\\n",
    "            conventional_fx_pairs.at[counter_trades_against, 'trades_against']\n",
    "         \n",
    "        # It is easier to follow with example\n",
    "        # Say base ccy = PLN\n",
    "        # Then base trades against = EUR\n",
    "        # And base ta trades against = USD\n",
    "        # We want to calculate amount in EUR for EURUSD trade\n",
    "        # It is equal to PLN amount * PLN/EUR rate\n",
    "        # Note the sign is same as amount\n",
    "        # Same logic applies for couter currency\n",
    "\n",
    "        base_ta_amount = float(amount) * get_base_trade_against_rate()\n",
    "        counter_ta_amount = float(counter_amount) * get_counter_trade_against_rate()\n",
    "         \n",
    "        calculate_delta(row, base_trades_against, base_ta_trades_against, base_ta_amount)\n",
    "        calculate_delta(row, counter_trades_against, counter_ta_trades_against, counter_ta_amount)\n",
    "                  \n",
    "    #Debug\n",
    "    #print('Finished processing trade. Onto next...')\n",
    "    #print()\n",
    "    return"
   ]
  },
  {
   "cell_type": "code",
   "execution_count": 8,
   "id": "787e34d8-e6f0-4fa6-947b-87e08a94b305",
   "metadata": {},
   "outputs": [],
   "source": [
    "import duckdb\n",
    "conn = duckdb.connect()\n",
    "\n",
    "def run_query(prev_time, current_time):\n",
    "    test = conn.execute(f'''\n",
    "    \n",
    "    with mark_rate as (select ccy2, unmarked_bid, unmarked_ask\n",
    "    from 'Files/rates_2023_09_28_2.parquet'\n",
    "    where ts = TIMESTAMP'{current_time}')\n",
    "    \n",
    "    SELECT t.*, rates_base.mid as rateUSDBASE, rates_counter.mid as rateUSDCOUNTER,\n",
    "    rates_eur.mid as rateUSDEUR, rates_gbp.mid as rateUSDGBP, rates_zar.mid as rateUSDZAR, rates_inr.mid as rateUSDINR, rates_sgd.mid as rateUSDSGD, rates_hkd.mid as rateUSDHKD,\n",
    "    mark_rate_base.mid as markrateUSDBASE, mark_rate_counter.mid as markrateUSDCOUNTER,\n",
    "    \n",
    "    FROM (SELECT date_trunc('second', es_stored_timestamp) as ts, base_ccy, counter_ccy, sum(base_amount*pow(10,-cd.exp)) as total_base_amount\n",
    "    FROM 'Files/trades_2023_09_28.parquet' t\n",
    "    JOIN (select ccy, exp from 'Files/ccy_details.parquet') cd\n",
    "    ON t.base_ccy = cd.ccy\n",
    "    where ts >= TIMESTAMP'{prev_time}' and ts < TIMESTAMP'{current_time}'\n",
    "    group by ts, base_ccy, counter_ccy) t\n",
    "    JOIN (select ts, ccy2, (unmarked_bid+unmarked_ask)/2 as mid from 'Files/rates_2023_09_28_2.parquet') rates_base\n",
    "    ON t.base_ccy = rates_base.ccy2 and t.ts = rates_base.ts\n",
    "    JOIN (select ts, ccy2, (unmarked_bid+unmarked_ask)/2 as mid from 'Files/rates_2023_09_28_2.parquet') rates_counter\n",
    "    ON t.counter_ccy = rates_counter.ccy2 and t.ts = rates_counter.ts\n",
    "    JOIN (select ts, ccy2, (unmarked_bid+unmarked_ask)/2 as mid from 'Files/rates_2023_09_28_2.parquet') rates_eur\n",
    "    ON t.ts = rates_eur.ts and rates_eur.ccy2 = 'EUR'\n",
    "    JOIN (select ts, ccy2, (unmarked_bid+unmarked_ask)/2 as mid from 'Files/rates_2023_09_28_2.parquet') rates_gbp\n",
    "    ON t.ts = rates_gbp.ts and rates_gbp.ccy2 = 'GBP'\n",
    "    JOIN (select ts, ccy2, (unmarked_bid+unmarked_ask)/2 as mid from 'Files/rates_2023_09_28_2.parquet') rates_zar\n",
    "    ON t.ts = rates_zar.ts and rates_zar.ccy2 = 'ZAR'\n",
    "    JOIN (select ts, ccy2, (unmarked_bid+unmarked_ask)/2 as mid from 'Files/rates_2023_09_28_2.parquet') rates_inr\n",
    "    ON t.ts = rates_inr.ts and rates_inr.ccy2 = 'INR'\n",
    "    JOIN (select ts, ccy2, (unmarked_bid+unmarked_ask)/2 as mid from 'Files/rates_2023_09_28_2.parquet') rates_sgd\n",
    "    ON t.ts = rates_sgd.ts and rates_sgd.ccy2 = 'SGD'\n",
    "    JOIN (select ts, ccy2, (unmarked_bid+unmarked_ask)/2 as mid from 'Files/rates_2023_09_28_2.parquet') rates_hkd\n",
    "    ON t.ts = rates_hkd.ts and rates_hkd.ccy2 = 'HKD'\n",
    "    \n",
    "    JOIN (select ccy2, (unmarked_bid+unmarked_ask)/2 as mid from mark_rate) mark_rate_base\n",
    "    ON mark_rate_base.ccy2 = t.base_ccy\n",
    "    JOIN (select ccy2, (unmarked_bid+unmarked_ask)/2 as mid from mark_rate) mark_rate_counter\n",
    "    ON mark_rate_counter.ccy2 = t.counter_ccy\n",
    "    \n",
    "    ''').fetch_arrow_table().to_pandas()\n",
    "    return test\n",
    "\n",
    "def mark_query(current_time):\n",
    "    test = conn.execute(f'''\n",
    "    \n",
    "    select ccy2, (unmarked_bid+unmarked_ask)/2 as mid\n",
    "    from 'Files/rates_2023_09_28_2.parquet'\n",
    "    where ts = TIMESTAMP'{current_time}'\n",
    "    \n",
    "    ''').fetch_arrow_table().to_pandas()\n",
    "    return test"
   ]
  },
  {
   "cell_type": "code",
   "execution_count": 38,
   "id": "ecceebbc-1fda-496b-b6a3-65098e2d7641",
   "metadata": {},
   "outputs": [],
   "source": [
    "pair_maps = conventional_fx_pairs.copy()\n",
    "pair_maps['pair'] = pair_maps['base'] + pair_maps['counter']\n",
    "pair_to_counter = pair_maps.reset_index().set_index('pair')['counter'].to_dict()\n",
    "pair_to_base = pair_maps.reset_index().set_index('pair')['base'].to_dict()\n",
    "\n",
    "#will also be used below\n",
    "def get_any_old_mark_rate(base, counter, old_markrate_dict): #if there was a pair in the current iteration that's not in the previos iteration, we still need to calc this because it won't be calculated when having processed the previous trades\n",
    "        pairname = base + counter\n",
    "        if pairname in old_markrate_dict.keys():\n",
    "            return old_markrate_dict[pairname]\n",
    "        usd_base = old_markrate_dict[('USD' + base)]\n",
    "        usd_counter = old_markrate_dict[('USD' + counter)]\n",
    "        old_markrate_dict[pairname] = 1/usd_base * usd_counter\n",
    "        return old_markrate_dict[pairname]\n",
    "\n",
    "def calculate_delta_on_existing_positions(existing_positions, old_markrate_dict, new_markrate_dict): #delta_on_existing_positions\n",
    "    \n",
    "    def get_any_new_mark_rate(base, counter): #if there was a pair in the previous iteration that's not in the current iteration, we still need to calc this because it won't be calculated when processing the new trades\n",
    "        pairname = base + counter\n",
    "        if pairname in new_markrate_dict.keys():\n",
    "            return new_markrate_dict[pairname]\n",
    "        usd_base = new_markrate_dict[('USD' + base)]\n",
    "        usd_counter = new_markrate_dict[('USD' + counter)]\n",
    "        new_markrate_dict[pairname] = 1/usd_base * usd_counter #better to add so no need to re-calculate when it's old_markrate (next iteration)\n",
    "        return new_markrate_dict[pairname]\n",
    "    \n",
    "    delta_on_existing_positions = {}\n",
    "    for key, value in existing_positions.items():\n",
    "        counter = pair_to_counter[key]\n",
    "        base = pair_to_base[key]\n",
    "        delta = value * (get_any_new_mark_rate(base, counter) - get_any_old_mark_rate(base, counter, old_markrate_dict)) #delta on existing positions in counter currency\n",
    "        delta_on_existing_positions[key] = delta * get_any_new_mark_rate(counter, 'GBP') #delta on existing positions in GBP\n",
    "    return delta_on_existing_positions"
   ]
  },
  {
   "cell_type": "code",
   "execution_count": 70,
   "id": "cadfa5be-7515-4a76-9a4e-53bb9ebe4f8c",
   "metadata": {},
   "outputs": [],
   "source": [
    "def break_down_into_conventional(base, counter, amount, rates): \n",
    "    \n",
    "    breakdown = pd.DataFrame(columns=['pair', 'amount'])\n",
    "    pair = base + counter\n",
    "\n",
    "    if base == counter:\n",
    "        return breakdown\n",
    "     \n",
    "    base_conv_base = conventional_fx_pairs.at[base, 'base']\n",
    "    base_conv_counter = conventional_fx_pairs.at[base, 'counter']\n",
    "     \n",
    "    counter_conv_base = conventional_fx_pairs.at[counter, 'base']\n",
    "    counter_conv_counter = conventional_fx_pairs.at[counter, 'counter']\n",
    "     \n",
    "    if (base == base_conv_base and counter == base_conv_counter) or \\\n",
    "        (base == counter_conv_base and counter == counter_conv_counter):\n",
    "        return pd.concat([breakdown if not breakdown.empty else None, pd.DataFrame(index = [0], data={'pair': pair, 'amount': amount})],\n",
    "                                ignore_index=True)\n",
    "     \n",
    "    if (base == base_conv_counter and counter == base_conv_base) or \\\n",
    "        (base == counter_conv_counter and counter == counter_conv_base):\n",
    "        # Invert currency pair, invert amount\n",
    "        inv_pair = counter + base\n",
    "        inv_amount = -amount * get_any_old_mark_rate(base, counter, rates)\n",
    "        return pd.concat([breakdown if not breakdown.empty else None, pd.DataFrame(index = [0], data={'pair': inv_pair, 'amount': inv_amount})],\n",
    "                                ignore_index=True)\n",
    "     \n",
    "    base_trades_against = conventional_fx_pairs.at[base, 'trades_against']\n",
    "    counter_trades_against = conventional_fx_pairs.at[counter, 'trades_against']\n",
    "     \n",
    "    trade_against_same = base_trades_against == counter_trades_against\n",
    "     \n",
    "    base_conv = break_down_into_conventional(\n",
    "        base, base_trades_against, amount, rates)\n",
    "    counter_amount = -amount * get_any_old_mark_rate(base, counter, rates)\n",
    "    counter_conv = break_down_into_conventional(\n",
    "        counter, counter_trades_against, counter_amount, rates)\n",
    "     \n",
    "    breakdown = (breakdown.copy() if base_conv.empty else base_conv.copy() if breakdown.empty else pd.concat([breakdown, base_conv]))\n",
    "    breakdown = (breakdown.copy() if counter_conv.empty else counter_conv.copy() if breakdown.empty else pd.concat([breakdown, counter_conv]))\n",
    "     \n",
    "    if not trade_against_same:\n",
    "        base_ta_trades_against = \\\n",
    "            conventional_fx_pairs.at[base_trades_against, 'trades_against']\n",
    "        counter_ta_trades_against = \\\n",
    "            conventional_fx_pairs.at[counter_trades_against, 'trades_against']\n",
    "         \n",
    "        base_ta_amount = amount * get_any_old_mark_rate(base, base_trades_against, rates)\n",
    "        counter_ta_amount = counter_amount * get_any_old_mark_rate(counter, counter_trades_against, rates)\n",
    "         \n",
    "        base_ta_conv = break_down_into_conventional(\n",
    "            base_trades_against, base_ta_trades_against,\n",
    "            base_ta_amount, rates)\n",
    "        counter_ta_conv = break_down_into_conventional(\n",
    "            counter_trades_against, counter_ta_trades_against,\n",
    "            counter_ta_amount, rates)\n",
    "         \n",
    "        breakdown = (breakdown.copy() if base_ta_conv.empty else base_ta_conv.copy() if breakdown.empty else pd.concat([breakdown, base_ta_conv]))\n",
    "        breakdown = (breakdown.copy() if counter_ta_conv.empty else counter_ta_conv.copy() if breakdown.empty else pd.concat([breakdown, counter_ta_conv]))\n",
    "         \n",
    "    return breakdown\n",
    "\n",
    "def balances_to_pairs(balances, old_markrate_dict):\n",
    "     \n",
    "    exposures = pd.DataFrame(columns=['pair', 'amount'])\n",
    "     \n",
    "    for currency in balances.index:\n",
    "        amount = balances.at[currency, 'amount']\n",
    "        breakdown = break_down_into_conventional(\n",
    "            currency, 'GBP', amount, old_markrate_dict) #assuming everything traded for GBP (company currency), will be the same result (except for company base), no matter what we put here\n",
    "        exposures = pd.concat([exposures  if not exposures.empty else None, breakdown if not breakdown.empty else None], ignore_index=True)\n",
    "         \n",
    "    exposures = exposures.groupby('pair').sum()\n",
    " \n",
    "    return exposures"
   ]
  },
  {
   "cell_type": "code",
   "execution_count": null,
   "id": "098c2b83-ad51-4e93-b512-5ab0ed099415",
   "metadata": {},
   "outputs": [],
   "source": []
  },
  {
   "cell_type": "markdown",
   "id": "8e529949-9525-41c8-84a2-b72b110fc3c1",
   "metadata": {
    "jp-MarkdownHeadingCollapsed": true
   },
   "source": [
    "## Full day delta calculation with buffer for 28th September taking 27th September EOD positions"
   ]
  },
  {
   "cell_type": "code",
   "execution_count": 35,
   "id": "50843d0b-ee38-43cb-9732-6c2c5d470504",
   "metadata": {},
   "outputs": [
    {
     "name": "stdout",
     "output_type": "stream",
     "text": [
      "[2023-12-04 15:17:48.111465] Connected successfully.\n",
      "State: QUEUED\r"
     ]
    }
   ],
   "source": [
    "query = '''\n",
    "select currency, sum(closing_amount_major) as amount\n",
    "from trading.cob_fx_position_reporting\n",
    "where cob_date = date'2023-09-27'\n",
    "group by currency \n",
    "'''\n",
    "\n",
    "single_ccy_pos = zeus_execution(query).set_index('currency')"
   ]
  },
  {
   "cell_type": "code",
   "execution_count": 85,
   "id": "f09ed98a-b5f6-4bf4-99ca-806449d60697",
   "metadata": {},
   "outputs": [
    {
     "data": {
      "application/vnd.jupyter.widget-view+json": {
       "model_id": "0a1b490c714a41519754d36286edbbf6",
       "version_major": 2,
       "version_minor": 0
      },
      "text/plain": [
       "FloatProgress(value=0.0, layout=Layout(width='auto'), style=ProgressStyle(bar_color='black'))"
      ]
     },
     "metadata": {},
     "output_type": "display_data"
    }
   ],
   "source": [
    "prev_time = '2023-09-28 00:00:00'\n",
    "current_time = '2023-09-28 15:35:41'\n",
    "\n",
    "cum_deltas_dict = dict()\n",
    "old_markrate_dict = dict()\n",
    "new_markrate_dict = dict()\n",
    "\n",
    "marks = mark_query(prev_time)\n",
    "marks['pair'] = 'USD' + marks['ccy2']\n",
    "old_markrate_dict.update(marks.set_index('pair')['mid'].to_dict())\n",
    "\n",
    "positions_dict = balances_to_pairs(single_ccy_pos, old_markrate_dict)['amount'].to_dict()\n",
    "existing_positions = positions_dict.copy()\n",
    "\n",
    "marks = mark_query(current_time)\n",
    "marks['pair'] = 'USD' + marks['ccy2']\n",
    "new_markrate_dict.update(marks.set_index('pair')['mid'].to_dict())\n",
    "\n",
    "test = run_query(prev_time, current_time) #will update positions_dict etc.\n",
    "_ = test.apply(calculate_delta, axis=1)"
   ]
  },
  {
   "cell_type": "code",
   "execution_count": 86,
   "id": "10061de2-06e1-4cce-8a65-9e62ae5ec4c7",
   "metadata": {},
   "outputs": [],
   "source": [
    "delta_on_existing_positions = calculate_delta_on_existing_positions(existing_positions, old_markrate_dict, new_markrate_dict)\n",
    "total_delta = pd.Series(cum_deltas_dict).add(pd.Series(delta_on_existing_positions), fill_value=0.0)"
   ]
  },
  {
   "cell_type": "code",
   "execution_count": 88,
   "id": "f8267b48-1ac4-4d74-9bdf-ccc8227585d5",
   "metadata": {},
   "outputs": [
    {
     "data": {
      "text/plain": [
       "EURUSD    -87659.421271\n",
       "USDKRW     -1643.720163\n",
       "TRBUSD     -1377.172674\n",
       "USDKZT     -1257.463167\n",
       "EURMAD     -1199.280315\n",
       "               ...     \n",
       "ETHUSD      1561.558263\n",
       "USDCOP      1563.680008\n",
       "EURMDL      1821.655882\n",
       "COMPUSD     2078.784311\n",
       "GBPUSD     46701.212389\n",
       "Length: 301, dtype: float64"
      ]
     },
     "execution_count": 88,
     "metadata": {},
     "output_type": "execute_result"
    }
   ],
   "source": [
    "total_delta.sort_values()"
   ]
  },
  {
   "cell_type": "markdown",
   "id": "611be4b6-66bc-4d35-90fe-63c3b596db16",
   "metadata": {
    "jp-MarkdownHeadingCollapsed": true
   },
   "source": [
    "## Delta calculation between 15:15 and 15:30 on 28th Sept and from 15:15 to 15:45 using delta and positions buffer"
   ]
  },
  {
   "cell_type": "code",
   "execution_count": 10,
   "id": "f1666e63-7d5d-4ae1-8322-0171481c50ad",
   "metadata": {},
   "outputs": [],
   "source": [
    "prev_time = '2023-09-28 15:15:00'\n",
    "current_time = '2023-09-28 15:30:00'\n",
    "\n",
    "cum_deltas_dict = dict()\n",
    "positions_dict = dict()\n",
    "old_markrate_dict = dict()\n",
    "new_markrate_dict = dict()\n",
    "\n",
    "marks = mark_query(current_time)\n",
    "marks['pair'] = 'USD' + marks['ccy2']\n",
    "new_markrate_dict.update(marks.set_index('pair')['mid'].to_dict())\n",
    "\n",
    "test = run_query(prev_time, current_time)\n",
    "_ = test.apply(calculate_delta, axis=1)"
   ]
  },
  {
   "cell_type": "code",
   "execution_count": 12,
   "id": "c98ce682-212b-47de-962e-f8ec8852f532",
   "metadata": {},
   "outputs": [
    {
     "data": {
      "text/plain": [
       "EURUSD    -87.428561\n",
       "EURCHF    -21.944106\n",
       "BTCUSD    -18.635034\n",
       "XAUUSD    -13.095452\n",
       "EURHUF    -12.825068\n",
       "             ...    \n",
       "USDTRY     12.333488\n",
       "COMPUSD    16.907685\n",
       "EURSEK     20.417848\n",
       "USDBRL     34.285548\n",
       "GBPUSD     51.576099\n",
       "Length: 216, dtype: float64"
      ]
     },
     "execution_count": 12,
     "metadata": {},
     "output_type": "execute_result"
    }
   ],
   "source": [
    "pd.Series(cum_deltas_dict).sort_values()"
   ]
  },
  {
   "cell_type": "code",
   "execution_count": null,
   "id": "7e05f522-6a1e-4125-9b82-fc794de006bc",
   "metadata": {},
   "outputs": [],
   "source": [
    "#Now 15 minutes later, we need to update the deltas, get the delta on new trades and update mark rates\n",
    "\n",
    "prev_time = '2023-09-28 15:30:00'\n",
    "current_time = '2023-09-28 15:45:00'\n",
    "old_markrate_dict = new_markrate_dict\n",
    "marks = mark_query(current_time)\n",
    "marks['pair'] = 'USD' + marks['ccy2']\n",
    "new_markrate_dict = marks.set_index('pair')['mid'].to_dict()\n",
    "existing_positions = positions_dict.copy()\n",
    "test2 = run_query(prev_time, current_time)\n",
    "_ = test2.apply(calculate_delta, axis=1)\n",
    "\n",
    "delta_on_existing_positions = calculate_delta_on_existing_positions(existing_positions, old_markrate_dict, new_markrate_dict)\n",
    "total_delta = pd.Series(cum_deltas_dict).add(pd.Series(delta_on_existing_positions), fill_value=0.0)"
   ]
  },
  {
   "cell_type": "code",
   "execution_count": 36,
   "id": "f50b4657-59c8-438d-8afd-604b6d14cf2f",
   "metadata": {},
   "outputs": [
    {
     "data": {
      "text/plain": [
       "USDZAR    -77.536352\n",
       "EURUSD    -73.550240\n",
       "EURPLN    -43.419609\n",
       "XAUUSD    -39.966910\n",
       "USDTHB    -25.103667\n",
       "             ...    \n",
       "EURNOK     17.832802\n",
       "AUDUSD     25.394488\n",
       "USDBRL     35.842867\n",
       "EURSEK     60.217922\n",
       "GBPUSD    135.190665\n",
       "Length: 231, dtype: float64"
      ]
     },
     "execution_count": 36,
     "metadata": {},
     "output_type": "execute_result"
    }
   ],
   "source": [
    "total_delta.sort_values()"
   ]
  },
  {
   "cell_type": "code",
   "execution_count": null,
   "id": "c4e76d8f-58bd-4270-9ded-4b23484f258e",
   "metadata": {},
   "outputs": [],
   "source": []
  },
  {
   "cell_type": "code",
   "execution_count": null,
   "id": "764b2eb9-0175-4cb7-a004-d6c89cf6230d",
   "metadata": {},
   "outputs": [],
   "source": []
  },
  {
   "cell_type": "code",
   "execution_count": null,
   "id": "70f83c45-c1bf-48e8-a03a-43c089bf37f9",
   "metadata": {},
   "outputs": [],
   "source": []
  },
  {
   "cell_type": "markdown",
   "id": "6cc7f637-7a25-4083-b8c0-a2da81d0a652",
   "metadata": {
    "jp-MarkdownHeadingCollapsed": true
   },
   "source": [
    "## Sanity check - delta should not depend on interval - checking 15:15 to 15:30 using 1 min intervals"
   ]
  },
  {
   "cell_type": "code",
   "execution_count": 42,
   "id": "11576d09-9aa6-41ca-9074-1c71c4eb05d8",
   "metadata": {},
   "outputs": [],
   "source": [
    "from datetime import datetime\n",
    "n_periods = 15\n",
    "start_times = pd.date_range(start=datetime(2023,9,28,15,15), end=datetime(2023,9,28,15,29), periods=n_periods)\n",
    "end_times = pd.date_range(start=datetime(2023,9,28,15,16), end=datetime(2023,9,28,15,30), periods=n_periods)"
   ]
  },
  {
   "cell_type": "code",
   "execution_count": 49,
   "id": "bf50b3e6-8c89-432a-83a9-2cf6f584f04b",
   "metadata": {
    "scrolled": true
   },
   "outputs": [
    {
     "data": {
      "application/vnd.jupyter.widget-view+json": {
       "model_id": "c6213dbc98a846ba876c8896a78941d8",
       "version_major": 2,
       "version_minor": 0
      },
      "text/plain": [
       "FloatProgress(value=0.0, layout=Layout(width='auto'), style=ProgressStyle(bar_color='black'))"
      ]
     },
     "metadata": {},
     "output_type": "display_data"
    },
    {
     "name": "stderr",
     "output_type": "stream",
     "text": [
      "  0%|          | 0/14 [00:00<?, ?it/s]"
     ]
    },
    {
     "data": {
      "application/vnd.jupyter.widget-view+json": {
       "model_id": "563df367c3db4310abe609ecc2b71b2b",
       "version_major": 2,
       "version_minor": 0
      },
      "text/plain": [
       "FloatProgress(value=0.0, layout=Layout(width='auto'), style=ProgressStyle(bar_color='black'))"
      ]
     },
     "metadata": {},
     "output_type": "display_data"
    },
    {
     "name": "stderr",
     "output_type": "stream",
     "text": [
      "  7%|▋         | 1/14 [00:06<01:23,  6.41s/it]"
     ]
    },
    {
     "data": {
      "application/vnd.jupyter.widget-view+json": {
       "model_id": "aa044c9357d048898c8ea04ec6b5b4fc",
       "version_major": 2,
       "version_minor": 0
      },
      "text/plain": [
       "FloatProgress(value=0.0, layout=Layout(width='auto'), style=ProgressStyle(bar_color='black'))"
      ]
     },
     "metadata": {},
     "output_type": "display_data"
    },
    {
     "name": "stderr",
     "output_type": "stream",
     "text": [
      " 14%|█▍        | 2/14 [00:12<01:17,  6.43s/it]"
     ]
    },
    {
     "data": {
      "application/vnd.jupyter.widget-view+json": {
       "model_id": "59076668348a402a8546e7e09ca5e04d",
       "version_major": 2,
       "version_minor": 0
      },
      "text/plain": [
       "FloatProgress(value=0.0, layout=Layout(width='auto'), style=ProgressStyle(bar_color='black'))"
      ]
     },
     "metadata": {},
     "output_type": "display_data"
    },
    {
     "name": "stderr",
     "output_type": "stream",
     "text": [
      " 21%|██▏       | 3/14 [00:19<01:10,  6.45s/it]"
     ]
    },
    {
     "data": {
      "application/vnd.jupyter.widget-view+json": {
       "model_id": "dc2615c8b28843e7bb51ebbe6e2e8e91",
       "version_major": 2,
       "version_minor": 0
      },
      "text/plain": [
       "FloatProgress(value=0.0, layout=Layout(width='auto'), style=ProgressStyle(bar_color='black'))"
      ]
     },
     "metadata": {},
     "output_type": "display_data"
    },
    {
     "name": "stderr",
     "output_type": "stream",
     "text": [
      " 29%|██▊       | 4/14 [00:25<01:04,  6.44s/it]"
     ]
    },
    {
     "data": {
      "application/vnd.jupyter.widget-view+json": {
       "model_id": "f07aa433540c4b50a8d8ace6dda42784",
       "version_major": 2,
       "version_minor": 0
      },
      "text/plain": [
       "FloatProgress(value=0.0, layout=Layout(width='auto'), style=ProgressStyle(bar_color='black'))"
      ]
     },
     "metadata": {},
     "output_type": "display_data"
    },
    {
     "name": "stderr",
     "output_type": "stream",
     "text": [
      " 36%|███▌      | 5/14 [00:32<00:58,  6.46s/it]"
     ]
    },
    {
     "data": {
      "application/vnd.jupyter.widget-view+json": {
       "model_id": "0223a662bff24f2e89995c944e238cc8",
       "version_major": 2,
       "version_minor": 0
      },
      "text/plain": [
       "FloatProgress(value=0.0, layout=Layout(width='auto'), style=ProgressStyle(bar_color='black'))"
      ]
     },
     "metadata": {},
     "output_type": "display_data"
    },
    {
     "name": "stderr",
     "output_type": "stream",
     "text": [
      " 43%|████▎     | 6/14 [00:38<00:51,  6.46s/it]"
     ]
    },
    {
     "data": {
      "application/vnd.jupyter.widget-view+json": {
       "model_id": "d2fb76d2b95348c49a9b3e43b01419e5",
       "version_major": 2,
       "version_minor": 0
      },
      "text/plain": [
       "FloatProgress(value=0.0, layout=Layout(width='auto'), style=ProgressStyle(bar_color='black'))"
      ]
     },
     "metadata": {},
     "output_type": "display_data"
    },
    {
     "name": "stderr",
     "output_type": "stream",
     "text": [
      " 50%|█████     | 7/14 [00:45<00:45,  6.46s/it]"
     ]
    },
    {
     "data": {
      "application/vnd.jupyter.widget-view+json": {
       "model_id": "de1f7f56fa29401893ab56aab59a8e1b",
       "version_major": 2,
       "version_minor": 0
      },
      "text/plain": [
       "FloatProgress(value=0.0, layout=Layout(width='auto'), style=ProgressStyle(bar_color='black'))"
      ]
     },
     "metadata": {},
     "output_type": "display_data"
    },
    {
     "name": "stderr",
     "output_type": "stream",
     "text": [
      " 57%|█████▋    | 8/14 [00:51<00:38,  6.48s/it]"
     ]
    },
    {
     "data": {
      "application/vnd.jupyter.widget-view+json": {
       "model_id": "1a6910caafad42c3bc407e79750a45a0",
       "version_major": 2,
       "version_minor": 0
      },
      "text/plain": [
       "FloatProgress(value=0.0, layout=Layout(width='auto'), style=ProgressStyle(bar_color='black'))"
      ]
     },
     "metadata": {},
     "output_type": "display_data"
    },
    {
     "name": "stderr",
     "output_type": "stream",
     "text": [
      " 64%|██████▍   | 9/14 [00:58<00:32,  6.49s/it]"
     ]
    },
    {
     "data": {
      "application/vnd.jupyter.widget-view+json": {
       "model_id": "c4595b22901849b4a68ca66966aaecb6",
       "version_major": 2,
       "version_minor": 0
      },
      "text/plain": [
       "FloatProgress(value=0.0, layout=Layout(width='auto'), style=ProgressStyle(bar_color='black'))"
      ]
     },
     "metadata": {},
     "output_type": "display_data"
    },
    {
     "name": "stderr",
     "output_type": "stream",
     "text": [
      " 71%|███████▏  | 10/14 [01:04<00:25,  6.47s/it]"
     ]
    },
    {
     "data": {
      "application/vnd.jupyter.widget-view+json": {
       "model_id": "1f95ab3ac9ed4d3ebdbffdf59e3eaa1a",
       "version_major": 2,
       "version_minor": 0
      },
      "text/plain": [
       "FloatProgress(value=0.0, layout=Layout(width='auto'), style=ProgressStyle(bar_color='black'))"
      ]
     },
     "metadata": {},
     "output_type": "display_data"
    },
    {
     "name": "stderr",
     "output_type": "stream",
     "text": [
      " 79%|███████▊  | 11/14 [01:11<00:19,  6.46s/it]"
     ]
    },
    {
     "data": {
      "application/vnd.jupyter.widget-view+json": {
       "model_id": "5460eb93fc3240b1b39677d6b880b9d8",
       "version_major": 2,
       "version_minor": 0
      },
      "text/plain": [
       "FloatProgress(value=0.0, layout=Layout(width='auto'), style=ProgressStyle(bar_color='black'))"
      ]
     },
     "metadata": {},
     "output_type": "display_data"
    },
    {
     "name": "stderr",
     "output_type": "stream",
     "text": [
      " 86%|████████▌ | 12/14 [01:17<00:12,  6.45s/it]"
     ]
    },
    {
     "data": {
      "application/vnd.jupyter.widget-view+json": {
       "model_id": "917da30a844f4ccf83454a127b364fd2",
       "version_major": 2,
       "version_minor": 0
      },
      "text/plain": [
       "FloatProgress(value=0.0, layout=Layout(width='auto'), style=ProgressStyle(bar_color='black'))"
      ]
     },
     "metadata": {},
     "output_type": "display_data"
    },
    {
     "name": "stderr",
     "output_type": "stream",
     "text": [
      " 93%|█████████▎| 13/14 [01:23<00:06,  6.44s/it]"
     ]
    },
    {
     "data": {
      "application/vnd.jupyter.widget-view+json": {
       "model_id": "6e954119534a4c3b9546452abfccd3ba",
       "version_major": 2,
       "version_minor": 0
      },
      "text/plain": [
       "FloatProgress(value=0.0, layout=Layout(width='auto'), style=ProgressStyle(bar_color='black'))"
      ]
     },
     "metadata": {},
     "output_type": "display_data"
    },
    {
     "name": "stderr",
     "output_type": "stream",
     "text": [
      "100%|██████████| 14/14 [01:30<00:00,  6.45s/it]\n"
     ]
    }
   ],
   "source": [
    "from tqdm import tqdm\n",
    "\n",
    "cum_deltas_dict = dict()\n",
    "positions_dict = dict() #positions are automatically accumulated\n",
    "old_markrate_dict = dict()\n",
    "new_markrate_dict = dict()\n",
    "\n",
    "marks = mark_query(end_times[0])\n",
    "marks['pair'] = 'USD' + marks['ccy2']\n",
    "new_markrate_dict.update(marks.set_index('pair')['mid'].to_dict())\n",
    "\n",
    "test = run_query(start_times[0], end_times[0])\n",
    "_ = test.apply(calculate_delta, axis=1)\n",
    "\n",
    "for i in tqdm(range(1,n_periods,1)):\n",
    "    old_markrate_dict = new_markrate_dict #update old_markrate\n",
    "    marks = mark_query(end_times[i])\n",
    "    marks['pair'] = 'USD' + marks['ccy2']\n",
    "    new_markrate_dict = marks.set_index('pair')['mid'].to_dict() #update new_markrate\n",
    "    \n",
    "    existing_positions = positions_dict.copy()\n",
    "    test = run_query(start_times[i], end_times[i])\n",
    "    _ = test.apply(calculate_delta, axis=1)\n",
    "    delta_on_existing_positions = calculate_delta_on_existing_positions(existing_positions, old_markrate_dict, new_markrate_dict)\n",
    "    cum_deltas_dict = pd.Series(cum_deltas_dict).add(pd.Series(delta_on_existing_positions), fill_value=0.0) #update cum_deltas"
   ]
  },
  {
   "cell_type": "code",
   "execution_count": 50,
   "id": "c3de3baf-61f6-43c1-a99f-8684fbfb7605",
   "metadata": {},
   "outputs": [
    {
     "data": {
      "text/plain": [
       "EURUSD    -87.409249\n",
       "EURCHF    -21.939414\n",
       "BTCUSD    -18.628250\n",
       "XAUUSD    -13.096223\n",
       "EURHUF    -12.824914\n",
       "             ...    \n",
       "USDTRY     12.333791\n",
       "COMPUSD    16.905836\n",
       "EURSEK     20.408776\n",
       "USDBRL     34.246200\n",
       "GBPUSD     51.563634\n",
       "Length: 216, dtype: float64"
      ]
     },
     "execution_count": 50,
     "metadata": {},
     "output_type": "execute_result"
    }
   ],
   "source": [
    "cum_deltas_dict.sort_values() #basically the same"
   ]
  },
  {
   "cell_type": "code",
   "execution_count": null,
   "id": "c90c6d3d-ae93-49a7-b850-44a0c9fcd068",
   "metadata": {},
   "outputs": [],
   "source": []
  },
  {
   "cell_type": "code",
   "execution_count": null,
   "id": "3dd67f14-7c4c-4e23-bca0-354f5f80fa89",
   "metadata": {},
   "outputs": [],
   "source": []
  },
  {
   "cell_type": "code",
   "execution_count": null,
   "id": "079f1489-cd23-4cd3-8385-4197a6f4899f",
   "metadata": {},
   "outputs": [],
   "source": []
  },
  {
   "cell_type": "code",
   "execution_count": null,
   "id": "627ab83a-a0fd-485d-9598-a00c21aac95e",
   "metadata": {},
   "outputs": [],
   "source": []
  },
  {
   "cell_type": "code",
   "execution_count": null,
   "id": "09727c36-1416-4ce1-a839-22e099160603",
   "metadata": {},
   "outputs": [],
   "source": []
  },
  {
   "cell_type": "code",
   "execution_count": null,
   "id": "5c188bbe-f544-4335-89f0-1cc86c06e6ce",
   "metadata": {},
   "outputs": [],
   "source": []
  },
  {
   "cell_type": "code",
   "execution_count": null,
   "id": "85d05600-ef98-4f06-9279-eb64ac79d65e",
   "metadata": {},
   "outputs": [],
   "source": []
  },
  {
   "cell_type": "code",
   "execution_count": null,
   "id": "ed117153-2278-4d73-a122-699d66e99ef8",
   "metadata": {},
   "outputs": [],
   "source": []
  },
  {
   "cell_type": "code",
   "execution_count": null,
   "id": "1d2214f3-e004-49c8-a7d8-84a701641bbd",
   "metadata": {},
   "outputs": [],
   "source": []
  },
  {
   "cell_type": "markdown",
   "id": "e022b996-ddd2-4d70-bb5d-58e91645430e",
   "metadata": {
    "jp-MarkdownHeadingCollapsed": true
   },
   "source": [
    "## function unit testing"
   ]
  },
  {
   "cell_type": "code",
   "execution_count": 15,
   "id": "1b669698-8bd5-490b-9657-b33e2d3730a1",
   "metadata": {},
   "outputs": [],
   "source": [
    "ut1 = pd.DataFrame([['PLN', 'MOP', -50.0, 4, 8, 0.5, 1, 8, \n",
    "                                          4, 8, 0.5, 0.5, 4], #everything increase by 1\n",
    "                    ['GBP', 'RUB', -50.0, 0.5, 50, 0.5, 1, 8, \n",
    "                                          2.5, 52, 2.5, 3, 10]], #everything increase by 2\n",
    "                    columns = ['base_ccy', 'counter_ccy', 'total_base_amount', 'rateUSDBASE', 'rateUSDCOUNTER', 'rateUSDGBP', 'rateUSDEUR', 'rateUSDHKD', 'markrateUSDBASE', 'markrateUSDCOUNTER', 'markrateUSDGBP', 'markrateUSDEUR', 'markrateUSDHKD'])"
   ]
  },
  {
   "cell_type": "code",
   "execution_count": 17,
   "id": "178decff-9683-4c94-8544-ca36b026fb8e",
   "metadata": {},
   "outputs": [
    {
     "name": "stdout",
     "output_type": "stream",
     "text": [
      "Adding 12.5 to pair EURPLN, market rate moved to 8.0 from 4.0\n",
      "Delta in PLN ccy amount: 50.0\n",
      "Rate for EURGBP : 1.0\n",
      "Rate for PLNGBP : 0.125\n",
      "Adding -100.0 to pair HKDMOP, market rate moved to 2.0 from 1.0\n",
      "Delta in MOP ccy amount: -100.0\n",
      "Rate for HKDGBP : 0.125\n",
      "Rate for MOPGBP : 0.0625\n",
      "Adding -12.5 to pair EURUSD, market rate moved to 2.0 from 1.0\n",
      "Delta in USD ccy amount: -12.5\n",
      "Rate for USDGBP : 0.5\n",
      "Adding -12.5 to pair USDHKD, market rate moved to 4.0 from 8.0\n",
      "Delta in HKD ccy amount: 50.0\n",
      "Rate for USDGBP : 0.5\n",
      "Rate for HKDGBP : 0.125\n",
      "Finished processing trade. Onto next...\n",
      "\n",
      "Adding -50.0 to pair GBPUSD, market rate moved to 0.4 from 2.0\n",
      "Delta in USD ccy amount: 80.0\n",
      "Rate for USDGBP : 2.5\n",
      "Adding -100.0 to pair USDRUB, market rate moved to 52.0 from 50.0\n",
      "Delta in RUB ccy amount: -200.0\n",
      "Rate for USDGBP : 2.5\n",
      "Rate for RUBGBP : 0.04807692307692308\n",
      "Finished processing trade. Onto next...\n",
      "\n"
     ]
    },
    {
     "data": {
      "text/html": [
       "<div>\n",
       "<style scoped>\n",
       "    .dataframe tbody tr th:only-of-type {\n",
       "        vertical-align: middle;\n",
       "    }\n",
       "\n",
       "    .dataframe tbody tr th {\n",
       "        vertical-align: top;\n",
       "    }\n",
       "\n",
       "    .dataframe thead th {\n",
       "        text-align: right;\n",
       "    }\n",
       "</style>\n",
       "<table border=\"1\" class=\"dataframe\">\n",
       "  <thead>\n",
       "    <tr style=\"text-align: right;\">\n",
       "      <th></th>\n",
       "      <th>EURPLN</th>\n",
       "      <th>EURUSD</th>\n",
       "      <th>GBPUSD</th>\n",
       "      <th>HKDMOP</th>\n",
       "      <th>USDHKD</th>\n",
       "      <th>USDRUB</th>\n",
       "      <th>base_ccy</th>\n",
       "      <th>counter_ccy</th>\n",
       "      <th>markrateUSDBASE</th>\n",
       "      <th>markrateUSDCOUNTER</th>\n",
       "      <th>markrateUSDEUR</th>\n",
       "      <th>markrateUSDGBP</th>\n",
       "      <th>markrateUSDHKD</th>\n",
       "      <th>rateUSDBASE</th>\n",
       "      <th>rateUSDCOUNTER</th>\n",
       "      <th>rateUSDEUR</th>\n",
       "      <th>rateUSDGBP</th>\n",
       "      <th>rateUSDHKD</th>\n",
       "      <th>total_base_amount</th>\n",
       "    </tr>\n",
       "  </thead>\n",
       "  <tbody>\n",
       "    <tr>\n",
       "      <th>0</th>\n",
       "      <td>6.25</td>\n",
       "      <td>-6.25</td>\n",
       "      <td>NaN</td>\n",
       "      <td>-6.25</td>\n",
       "      <td>6.25</td>\n",
       "      <td>NaN</td>\n",
       "      <td>PLN</td>\n",
       "      <td>MOP</td>\n",
       "      <td>4.0</td>\n",
       "      <td>8</td>\n",
       "      <td>0.5</td>\n",
       "      <td>0.5</td>\n",
       "      <td>4</td>\n",
       "      <td>4.0</td>\n",
       "      <td>8</td>\n",
       "      <td>1</td>\n",
       "      <td>0.5</td>\n",
       "      <td>8</td>\n",
       "      <td>-50.0</td>\n",
       "    </tr>\n",
       "    <tr>\n",
       "      <th>1</th>\n",
       "      <td>NaN</td>\n",
       "      <td>NaN</td>\n",
       "      <td>200.0</td>\n",
       "      <td>NaN</td>\n",
       "      <td>NaN</td>\n",
       "      <td>-9.615385</td>\n",
       "      <td>GBP</td>\n",
       "      <td>RUB</td>\n",
       "      <td>2.5</td>\n",
       "      <td>52</td>\n",
       "      <td>3.0</td>\n",
       "      <td>2.5</td>\n",
       "      <td>10</td>\n",
       "      <td>0.5</td>\n",
       "      <td>50</td>\n",
       "      <td>1</td>\n",
       "      <td>0.5</td>\n",
       "      <td>8</td>\n",
       "      <td>-50.0</td>\n",
       "    </tr>\n",
       "  </tbody>\n",
       "</table>\n",
       "</div>"
      ],
      "text/plain": [
       "   EURPLN  EURUSD  GBPUSD  HKDMOP  USDHKD    USDRUB base_ccy counter_ccy  \\\n",
       "0    6.25   -6.25     NaN   -6.25    6.25       NaN      PLN         MOP   \n",
       "1     NaN     NaN   200.0     NaN     NaN -9.615385      GBP         RUB   \n",
       "\n",
       "   markrateUSDBASE  markrateUSDCOUNTER  markrateUSDEUR  markrateUSDGBP  \\\n",
       "0              4.0                   8             0.5             0.5   \n",
       "1              2.5                  52             3.0             2.5   \n",
       "\n",
       "   markrateUSDHKD  rateUSDBASE  rateUSDCOUNTER  rateUSDEUR  rateUSDGBP  \\\n",
       "0               4          4.0               8           1         0.5   \n",
       "1              10          0.5              50           1         0.5   \n",
       "\n",
       "   rateUSDHKD  total_base_amount  \n",
       "0           8              -50.0  \n",
       "1           8              -50.0  "
      ]
     },
     "execution_count": 17,
     "metadata": {},
     "output_type": "execute_result"
    }
   ],
   "source": [
    "ut1.apply(calculate_delta, axis=1)"
   ]
  },
  {
   "cell_type": "code",
   "execution_count": null,
   "id": "b4430e9d-b9db-4f94-8dc3-06322fc187e5",
   "metadata": {},
   "outputs": [],
   "source": []
  },
  {
   "cell_type": "code",
   "execution_count": null,
   "id": "36602679-78f3-4efe-b14d-f01bd29f8fb5",
   "metadata": {},
   "outputs": [],
   "source": []
  },
  {
   "cell_type": "code",
   "execution_count": null,
   "id": "988ef12b-4011-44a1-b537-5a9dbcee7149",
   "metadata": {},
   "outputs": [],
   "source": []
  },
  {
   "cell_type": "code",
   "execution_count": null,
   "id": "c49ee427-069a-47ff-ae76-cd2c88ef3633",
   "metadata": {},
   "outputs": [],
   "source": []
  },
  {
   "cell_type": "code",
   "execution_count": null,
   "id": "c9b07fdc-0dc8-4e1f-99a9-83a8bef9d854",
   "metadata": {},
   "outputs": [],
   "source": []
  },
  {
   "cell_type": "code",
   "execution_count": null,
   "id": "af2f4334-3942-45fb-b79f-09bc84d2123c",
   "metadata": {},
   "outputs": [],
   "source": []
  },
  {
   "cell_type": "code",
   "execution_count": null,
   "id": "7a33eae2-8428-4e3f-bf49-75e04fa050e5",
   "metadata": {},
   "outputs": [],
   "source": []
  },
  {
   "cell_type": "code",
   "execution_count": null,
   "id": "89665f7c-2c33-4316-a0ad-8ea16d1a7d1e",
   "metadata": {},
   "outputs": [],
   "source": []
  },
  {
   "cell_type": "code",
   "execution_count": null,
   "id": "b2735a45-4f0c-4c9a-998e-8637a102fc4d",
   "metadata": {},
   "outputs": [],
   "source": []
  },
  {
   "cell_type": "code",
   "execution_count": null,
   "id": "eac75d74-905c-45e2-8cad-daab68c622ef",
   "metadata": {},
   "outputs": [],
   "source": [
    "# conn.execute('''\n",
    "# with mark_rate as (select ccy2, bid, ask\n",
    "# from 'rates_2023_09_28_2.parquet'\n",
    "# where ts = ?)\n",
    "\n",
    "# select (bid+ask)/2 from mark_rate where ccy2 = 'EUR'\n",
    "# ''',[mark_time]).df()\n",
    "\n",
    "# conn.execute('''\n",
    "# with mark_rate as (select ccy2, bid, ask\n",
    "# from 'rates_2023_09_28_2.parquet'\n",
    "# where ts = ?)\n",
    "\n",
    "# select (bid+ask)/2 from mark_rate where ccy2 = 'EUR'\n",
    "# ''',[mark_time]).df()\n",
    "\n",
    "# orig = conn.execute('''\n",
    "# with mark_rate as (select ccy2, bid, ask\n",
    "# from 'rates_2023_09_28_2.parquet'\n",
    "# where ts = ?)\n",
    "\n",
    "# SELECT *,\n",
    "# FROM (SELECT date_trunc('second', es_stored_timestamp) as ts, base_ccy, counter_ccy, sum(base_amount) as total_base_amount\n",
    "# FROM 'trades_2023_09_28.parquet'\n",
    "# where ts > TIMESTAMP '2023-09-28 15:30:00'\n",
    "# group by ts, base_ccy, counter_ccy) t\n",
    "# -- for some reason simple select didn't work\n",
    "# CROSS JOIN (select (bid+ask)/2 as markrateUSDEUR from mark_rate where ccy2 = 'EUR')\n",
    "# CROSS JOIN (select (bid+ask)/2 as markrateUSDGB from mark_rate P where ccy2 = 'GBP')\n",
    "\n",
    "# ''',[mark_time]).df()\n",
    "\n",
    "# def dummy(row):\n",
    "#     row['+'] = row['num']+1\n",
    "#     row['-'] = row['num']-1\n",
    "#     if row['num']%3 == 0:\n",
    "#         row['div3'] = True\n",
    "#     return row\n",
    "\n",
    "# test2 = pd.DataFrame(index=[0,1,2], columns=['num', 'random'], data = [[1, 0],[2, 10], [3, 29]])\n",
    "\n",
    "# test2.apply(dummy, axis=1)"
   ]
  },
  {
   "cell_type": "code",
   "execution_count": 15,
   "id": "805ddbf7-e173-49e2-9b3e-b1f851cdb967",
   "metadata": {},
   "outputs": [
    {
     "data": {
      "text/html": [
       "<div>\n",
       "<style scoped>\n",
       "    .dataframe tbody tr th:only-of-type {\n",
       "        vertical-align: middle;\n",
       "    }\n",
       "\n",
       "    .dataframe tbody tr th {\n",
       "        vertical-align: top;\n",
       "    }\n",
       "\n",
       "    .dataframe thead th {\n",
       "        text-align: right;\n",
       "    }\n",
       "</style>\n",
       "<table border=\"1\" class=\"dataframe\">\n",
       "  <thead>\n",
       "    <tr style=\"text-align: right;\">\n",
       "      <th></th>\n",
       "      <th>ts</th>\n",
       "      <th>ccy2</th>\n",
       "      <th>bid</th>\n",
       "      <th>ask</th>\n",
       "      <th>unmarked_bid</th>\n",
       "      <th>unmarked_ask</th>\n",
       "    </tr>\n",
       "  </thead>\n",
       "  <tbody>\n",
       "    <tr>\n",
       "      <th>0</th>\n",
       "      <td>2023-09-28 15:45:32</td>\n",
       "      <td>1INCH</td>\n",
       "      <td>3.696930</td>\n",
       "      <td>3.805188</td>\n",
       "      <td>3.745737</td>\n",
       "      <td>3.756244</td>\n",
       "    </tr>\n",
       "    <tr>\n",
       "      <th>1</th>\n",
       "      <td>2023-09-28 15:45:32</td>\n",
       "      <td>AAVE</td>\n",
       "      <td>0.015396</td>\n",
       "      <td>0.015799</td>\n",
       "      <td>0.015594</td>\n",
       "      <td>0.015601</td>\n",
       "    </tr>\n",
       "    <tr>\n",
       "      <th>2</th>\n",
       "      <td>2023-09-28 15:45:32</td>\n",
       "      <td>ACH</td>\n",
       "      <td>63.994084</td>\n",
       "      <td>66.000410</td>\n",
       "      <td>64.928403</td>\n",
       "      <td>65.064137</td>\n",
       "    </tr>\n",
       "    <tr>\n",
       "      <th>3</th>\n",
       "      <td>2023-09-28 15:45:32</td>\n",
       "      <td>ADA</td>\n",
       "      <td>3.974169</td>\n",
       "      <td>4.077592</td>\n",
       "      <td>4.024760</td>\n",
       "      <td>4.026973</td>\n",
       "    </tr>\n",
       "    <tr>\n",
       "      <th>4</th>\n",
       "      <td>2023-09-28 15:45:32</td>\n",
       "      <td>AED</td>\n",
       "      <td>3.666496</td>\n",
       "      <td>3.679324</td>\n",
       "      <td>3.672740</td>\n",
       "      <td>3.673080</td>\n",
       "    </tr>\n",
       "    <tr>\n",
       "      <th>...</th>\n",
       "      <td>...</td>\n",
       "      <td>...</td>\n",
       "      <td>...</td>\n",
       "      <td>...</td>\n",
       "      <td>...</td>\n",
       "      <td>...</td>\n",
       "    </tr>\n",
       "    <tr>\n",
       "      <th>324</th>\n",
       "      <td>2023-09-28 15:45:32</td>\n",
       "      <td>YGG</td>\n",
       "      <td>4.686115</td>\n",
       "      <td>4.770411</td>\n",
       "      <td>4.712268</td>\n",
       "      <td>4.744081</td>\n",
       "    </tr>\n",
       "    <tr>\n",
       "      <th>325</th>\n",
       "      <td>2023-09-28 15:45:32</td>\n",
       "      <td>ZAR</td>\n",
       "      <td>18.944012</td>\n",
       "      <td>19.046598</td>\n",
       "      <td>18.993300</td>\n",
       "      <td>18.997300</td>\n",
       "    </tr>\n",
       "    <tr>\n",
       "      <th>326</th>\n",
       "      <td>2023-09-28 15:45:32</td>\n",
       "      <td>ZMW</td>\n",
       "      <td>20.735371</td>\n",
       "      <td>20.814664</td>\n",
       "      <td>20.750000</td>\n",
       "      <td>20.800000</td>\n",
       "    </tr>\n",
       "    <tr>\n",
       "      <th>327</th>\n",
       "      <td>2023-09-28 15:45:32</td>\n",
       "      <td>ZRX</td>\n",
       "      <td>5.151368</td>\n",
       "      <td>5.310077</td>\n",
       "      <td>5.221016</td>\n",
       "      <td>5.240173</td>\n",
       "    </tr>\n",
       "    <tr>\n",
       "      <th>328</th>\n",
       "      <td>2023-09-28 15:45:32</td>\n",
       "      <td>ZWL</td>\n",
       "      <td>4990.449251</td>\n",
       "      <td>5515.227496</td>\n",
       "      <td>4993.970000</td>\n",
       "      <td>5511.342000</td>\n",
       "    </tr>\n",
       "  </tbody>\n",
       "</table>\n",
       "<p>329 rows × 6 columns</p>\n",
       "</div>"
      ],
      "text/plain": [
       "                     ts   ccy2          bid          ask  unmarked_bid  \\\n",
       "0   2023-09-28 15:45:32  1INCH     3.696930     3.805188      3.745737   \n",
       "1   2023-09-28 15:45:32   AAVE     0.015396     0.015799      0.015594   \n",
       "2   2023-09-28 15:45:32    ACH    63.994084    66.000410     64.928403   \n",
       "3   2023-09-28 15:45:32    ADA     3.974169     4.077592      4.024760   \n",
       "4   2023-09-28 15:45:32    AED     3.666496     3.679324      3.672740   \n",
       "..                  ...    ...          ...          ...           ...   \n",
       "324 2023-09-28 15:45:32    YGG     4.686115     4.770411      4.712268   \n",
       "325 2023-09-28 15:45:32    ZAR    18.944012    19.046598     18.993300   \n",
       "326 2023-09-28 15:45:32    ZMW    20.735371    20.814664     20.750000   \n",
       "327 2023-09-28 15:45:32    ZRX     5.151368     5.310077      5.221016   \n",
       "328 2023-09-28 15:45:32    ZWL  4990.449251  5515.227496   4993.970000   \n",
       "\n",
       "     unmarked_ask  \n",
       "0        3.756244  \n",
       "1        0.015601  \n",
       "2       65.064137  \n",
       "3        4.026973  \n",
       "4        3.673080  \n",
       "..            ...  \n",
       "324      4.744081  \n",
       "325     18.997300  \n",
       "326     20.800000  \n",
       "327      5.240173  \n",
       "328   5511.342000  \n",
       "\n",
       "[329 rows x 6 columns]"
      ]
     },
     "execution_count": 15,
     "metadata": {},
     "output_type": "execute_result"
    }
   ],
   "source": [
    "ts = '2023-09-28 15:45:32'\n",
    "conn.execute('''\n",
    "select *\n",
    "from 'rates_2023_09_28_2.parquet'\n",
    "where ts = ?\n",
    "''', [ts]).df()"
   ]
  },
  {
   "cell_type": "code",
   "execution_count": 22,
   "id": "8caecc36-d022-460d-90d0-1bf53670e364",
   "metadata": {},
   "outputs": [
    {
     "data": {
      "text/plain": [
       "trades_against\n",
       "USD    376\n",
       "EUR     26\n",
       "GBP      6\n",
       "ZAR      3\n",
       "INR      2\n",
       "SGD      1\n",
       "HKD      1\n",
       "AUD      1\n",
       "Name: count, dtype: int64"
      ]
     },
     "execution_count": 22,
     "metadata": {},
     "output_type": "execute_result"
    }
   ],
   "source": [
    "conventional_fx_pairs.trades_against.value_counts()"
   ]
  },
  {
   "cell_type": "code",
   "execution_count": 37,
   "id": "f4287c27-6d6e-4ab3-ab73-e7ae4403e708",
   "metadata": {},
   "outputs": [
    {
     "data": {
      "text/plain": [
       "trades_against                      USD\n",
       "base                                AUD\n",
       "counter                             USD\n",
       "document_name     CONVENTIONAL_FX_PAIRS\n",
       "sheet_name                       Sheet1\n",
       "sheet_line_no                        17\n",
       "Name: AUD, dtype: object"
      ]
     },
     "execution_count": 37,
     "metadata": {},
     "output_type": "execute_result"
    }
   ],
   "source": [
    "conventional_fx_pairs.loc['AUD']"
   ]
  },
  {
   "cell_type": "code",
   "execution_count": 40,
   "id": "c61b669d-8822-4cf6-86cc-a1468676becb",
   "metadata": {},
   "outputs": [
    {
     "data": {
      "text/html": [
       "<div>\n",
       "<style scoped>\n",
       "    .dataframe tbody tr th:only-of-type {\n",
       "        vertical-align: middle;\n",
       "    }\n",
       "\n",
       "    .dataframe tbody tr th {\n",
       "        vertical-align: top;\n",
       "    }\n",
       "\n",
       "    .dataframe thead th {\n",
       "        text-align: right;\n",
       "    }\n",
       "</style>\n",
       "<table border=\"1\" class=\"dataframe\">\n",
       "  <thead>\n",
       "    <tr style=\"text-align: right;\">\n",
       "      <th></th>\n",
       "      <th>trades_against</th>\n",
       "      <th>base</th>\n",
       "      <th>counter</th>\n",
       "      <th>document_name</th>\n",
       "      <th>sheet_name</th>\n",
       "      <th>sheet_line_no</th>\n",
       "    </tr>\n",
       "    <tr>\n",
       "      <th>currency</th>\n",
       "      <th></th>\n",
       "      <th></th>\n",
       "      <th></th>\n",
       "      <th></th>\n",
       "      <th></th>\n",
       "      <th></th>\n",
       "    </tr>\n",
       "  </thead>\n",
       "  <tbody>\n",
       "    <tr>\n",
       "      <th>ALL</th>\n",
       "      <td>EUR</td>\n",
       "      <td>EUR</td>\n",
       "      <td>ALL</td>\n",
       "      <td>CONVENTIONAL_FX_PAIRS</td>\n",
       "      <td>Sheet1</td>\n",
       "      <td>8</td>\n",
       "    </tr>\n",
       "    <tr>\n",
       "      <th>BAM</th>\n",
       "      <td>EUR</td>\n",
       "      <td>EUR</td>\n",
       "      <td>BAM</td>\n",
       "      <td>CONVENTIONAL_FX_PAIRS</td>\n",
       "      <td>Sheet1</td>\n",
       "      <td>22</td>\n",
       "    </tr>\n",
       "    <tr>\n",
       "      <th>BGN</th>\n",
       "      <td>EUR</td>\n",
       "      <td>EUR</td>\n",
       "      <td>BGN</td>\n",
       "      <td>CONVENTIONAL_FX_PAIRS</td>\n",
       "      <td>Sheet1</td>\n",
       "      <td>28</td>\n",
       "    </tr>\n",
       "    <tr>\n",
       "      <th>CHF</th>\n",
       "      <td>EUR</td>\n",
       "      <td>EUR</td>\n",
       "      <td>CHF</td>\n",
       "      <td>CONVENTIONAL_FX_PAIRS</td>\n",
       "      <td>Sheet1</td>\n",
       "      <td>47</td>\n",
       "    </tr>\n",
       "    <tr>\n",
       "      <th>CVE</th>\n",
       "      <td>EUR</td>\n",
       "      <td>EUR</td>\n",
       "      <td>CVE</td>\n",
       "      <td>CONVENTIONAL_FX_PAIRS</td>\n",
       "      <td>Sheet1</td>\n",
       "      <td>60</td>\n",
       "    </tr>\n",
       "    <tr>\n",
       "      <th>CZK</th>\n",
       "      <td>EUR</td>\n",
       "      <td>EUR</td>\n",
       "      <td>CZK</td>\n",
       "      <td>CONVENTIONAL_FX_PAIRS</td>\n",
       "      <td>Sheet1</td>\n",
       "      <td>61</td>\n",
       "    </tr>\n",
       "    <tr>\n",
       "      <th>DKK</th>\n",
       "      <td>EUR</td>\n",
       "      <td>EUR</td>\n",
       "      <td>DKK</td>\n",
       "      <td>CONVENTIONAL_FX_PAIRS</td>\n",
       "      <td>Sheet1</td>\n",
       "      <td>63</td>\n",
       "    </tr>\n",
       "    <tr>\n",
       "      <th>HRK</th>\n",
       "      <td>EUR</td>\n",
       "      <td>EUR</td>\n",
       "      <td>HRK</td>\n",
       "      <td>CONVENTIONAL_FX_PAIRS</td>\n",
       "      <td>Sheet1</td>\n",
       "      <td>98</td>\n",
       "    </tr>\n",
       "    <tr>\n",
       "      <th>HUF</th>\n",
       "      <td>EUR</td>\n",
       "      <td>EUR</td>\n",
       "      <td>HUF</td>\n",
       "      <td>CONVENTIONAL_FX_PAIRS</td>\n",
       "      <td>Sheet1</td>\n",
       "      <td>100</td>\n",
       "    </tr>\n",
       "    <tr>\n",
       "      <th>ISK</th>\n",
       "      <td>EUR</td>\n",
       "      <td>EUR</td>\n",
       "      <td>ISK</td>\n",
       "      <td>CONVENTIONAL_FX_PAIRS</td>\n",
       "      <td>Sheet1</td>\n",
       "      <td>109</td>\n",
       "    </tr>\n",
       "    <tr>\n",
       "      <th>KMF</th>\n",
       "      <td>EUR</td>\n",
       "      <td>EUR</td>\n",
       "      <td>KMF</td>\n",
       "      <td>CONVENTIONAL_FX_PAIRS</td>\n",
       "      <td>Sheet1</td>\n",
       "      <td>119</td>\n",
       "    </tr>\n",
       "    <tr>\n",
       "      <th>LTL</th>\n",
       "      <td>EUR</td>\n",
       "      <td>EUR</td>\n",
       "      <td>LTL</td>\n",
       "      <td>CONVENTIONAL_FX_PAIRS</td>\n",
       "      <td>Sheet1</td>\n",
       "      <td>137</td>\n",
       "    </tr>\n",
       "    <tr>\n",
       "      <th>LVL</th>\n",
       "      <td>EUR</td>\n",
       "      <td>EUR</td>\n",
       "      <td>LVL</td>\n",
       "      <td>CONVENTIONAL_FX_PAIRS</td>\n",
       "      <td>Sheet1</td>\n",
       "      <td>138</td>\n",
       "    </tr>\n",
       "    <tr>\n",
       "      <th>MAD</th>\n",
       "      <td>EUR</td>\n",
       "      <td>EUR</td>\n",
       "      <td>MAD</td>\n",
       "      <td>CONVENTIONAL_FX_PAIRS</td>\n",
       "      <td>Sheet1</td>\n",
       "      <td>140</td>\n",
       "    </tr>\n",
       "    <tr>\n",
       "      <th>MDL</th>\n",
       "      <td>EUR</td>\n",
       "      <td>EUR</td>\n",
       "      <td>MDL</td>\n",
       "      <td>CONVENTIONAL_FX_PAIRS</td>\n",
       "      <td>Sheet1</td>\n",
       "      <td>144</td>\n",
       "    </tr>\n",
       "    <tr>\n",
       "      <th>MKD</th>\n",
       "      <td>EUR</td>\n",
       "      <td>EUR</td>\n",
       "      <td>MKD</td>\n",
       "      <td>CONVENTIONAL_FX_PAIRS</td>\n",
       "      <td>Sheet1</td>\n",
       "      <td>147</td>\n",
       "    </tr>\n",
       "    <tr>\n",
       "      <th>NOK</th>\n",
       "      <td>EUR</td>\n",
       "      <td>EUR</td>\n",
       "      <td>NOK</td>\n",
       "      <td>CONVENTIONAL_FX_PAIRS</td>\n",
       "      <td>Sheet1</td>\n",
       "      <td>168</td>\n",
       "    </tr>\n",
       "    <tr>\n",
       "      <th>PLN</th>\n",
       "      <td>EUR</td>\n",
       "      <td>EUR</td>\n",
       "      <td>PLN</td>\n",
       "      <td>CONVENTIONAL_FX_PAIRS</td>\n",
       "      <td>Sheet1</td>\n",
       "      <td>183</td>\n",
       "    </tr>\n",
       "    <tr>\n",
       "      <th>RON</th>\n",
       "      <td>EUR</td>\n",
       "      <td>EUR</td>\n",
       "      <td>RON</td>\n",
       "      <td>CONVENTIONAL_FX_PAIRS</td>\n",
       "      <td>Sheet1</td>\n",
       "      <td>191</td>\n",
       "    </tr>\n",
       "    <tr>\n",
       "      <th>RSD</th>\n",
       "      <td>EUR</td>\n",
       "      <td>EUR</td>\n",
       "      <td>RSD</td>\n",
       "      <td>CONVENTIONAL_FX_PAIRS</td>\n",
       "      <td>Sheet1</td>\n",
       "      <td>192</td>\n",
       "    </tr>\n",
       "    <tr>\n",
       "      <th>SEK</th>\n",
       "      <td>EUR</td>\n",
       "      <td>EUR</td>\n",
       "      <td>SEK</td>\n",
       "      <td>CONVENTIONAL_FX_PAIRS</td>\n",
       "      <td>Sheet1</td>\n",
       "      <td>201</td>\n",
       "    </tr>\n",
       "    <tr>\n",
       "      <th>STD</th>\n",
       "      <td>EUR</td>\n",
       "      <td>EUR</td>\n",
       "      <td>STD</td>\n",
       "      <td>CONVENTIONAL_FX_PAIRS</td>\n",
       "      <td>Sheet1</td>\n",
       "      <td>212</td>\n",
       "    </tr>\n",
       "    <tr>\n",
       "      <th>STN</th>\n",
       "      <td>EUR</td>\n",
       "      <td>EUR</td>\n",
       "      <td>STN</td>\n",
       "      <td>CONVENTIONAL_FX_PAIRS</td>\n",
       "      <td>Sheet1</td>\n",
       "      <td>213</td>\n",
       "    </tr>\n",
       "    <tr>\n",
       "      <th>XAF</th>\n",
       "      <td>EUR</td>\n",
       "      <td>EUR</td>\n",
       "      <td>XAF</td>\n",
       "      <td>CONVENTIONAL_FX_PAIRS</td>\n",
       "      <td>Sheet1</td>\n",
       "      <td>249</td>\n",
       "    </tr>\n",
       "    <tr>\n",
       "      <th>XOF</th>\n",
       "      <td>EUR</td>\n",
       "      <td>EUR</td>\n",
       "      <td>XOF</td>\n",
       "      <td>CONVENTIONAL_FX_PAIRS</td>\n",
       "      <td>Sheet1</td>\n",
       "      <td>255</td>\n",
       "    </tr>\n",
       "    <tr>\n",
       "      <th>XPF</th>\n",
       "      <td>EUR</td>\n",
       "      <td>EUR</td>\n",
       "      <td>XPF</td>\n",
       "      <td>CONVENTIONAL_FX_PAIRS</td>\n",
       "      <td>Sheet1</td>\n",
       "      <td>257</td>\n",
       "    </tr>\n",
       "  </tbody>\n",
       "</table>\n",
       "</div>"
      ],
      "text/plain": [
       "         trades_against base counter          document_name sheet_name  \\\n",
       "currency                                                                 \n",
       "ALL                 EUR  EUR     ALL  CONVENTIONAL_FX_PAIRS     Sheet1   \n",
       "BAM                 EUR  EUR     BAM  CONVENTIONAL_FX_PAIRS     Sheet1   \n",
       "BGN                 EUR  EUR     BGN  CONVENTIONAL_FX_PAIRS     Sheet1   \n",
       "CHF                 EUR  EUR     CHF  CONVENTIONAL_FX_PAIRS     Sheet1   \n",
       "CVE                 EUR  EUR     CVE  CONVENTIONAL_FX_PAIRS     Sheet1   \n",
       "CZK                 EUR  EUR     CZK  CONVENTIONAL_FX_PAIRS     Sheet1   \n",
       "DKK                 EUR  EUR     DKK  CONVENTIONAL_FX_PAIRS     Sheet1   \n",
       "HRK                 EUR  EUR     HRK  CONVENTIONAL_FX_PAIRS     Sheet1   \n",
       "HUF                 EUR  EUR     HUF  CONVENTIONAL_FX_PAIRS     Sheet1   \n",
       "ISK                 EUR  EUR     ISK  CONVENTIONAL_FX_PAIRS     Sheet1   \n",
       "KMF                 EUR  EUR     KMF  CONVENTIONAL_FX_PAIRS     Sheet1   \n",
       "LTL                 EUR  EUR     LTL  CONVENTIONAL_FX_PAIRS     Sheet1   \n",
       "LVL                 EUR  EUR     LVL  CONVENTIONAL_FX_PAIRS     Sheet1   \n",
       "MAD                 EUR  EUR     MAD  CONVENTIONAL_FX_PAIRS     Sheet1   \n",
       "MDL                 EUR  EUR     MDL  CONVENTIONAL_FX_PAIRS     Sheet1   \n",
       "MKD                 EUR  EUR     MKD  CONVENTIONAL_FX_PAIRS     Sheet1   \n",
       "NOK                 EUR  EUR     NOK  CONVENTIONAL_FX_PAIRS     Sheet1   \n",
       "PLN                 EUR  EUR     PLN  CONVENTIONAL_FX_PAIRS     Sheet1   \n",
       "RON                 EUR  EUR     RON  CONVENTIONAL_FX_PAIRS     Sheet1   \n",
       "RSD                 EUR  EUR     RSD  CONVENTIONAL_FX_PAIRS     Sheet1   \n",
       "SEK                 EUR  EUR     SEK  CONVENTIONAL_FX_PAIRS     Sheet1   \n",
       "STD                 EUR  EUR     STD  CONVENTIONAL_FX_PAIRS     Sheet1   \n",
       "STN                 EUR  EUR     STN  CONVENTIONAL_FX_PAIRS     Sheet1   \n",
       "XAF                 EUR  EUR     XAF  CONVENTIONAL_FX_PAIRS     Sheet1   \n",
       "XOF                 EUR  EUR     XOF  CONVENTIONAL_FX_PAIRS     Sheet1   \n",
       "XPF                 EUR  EUR     XPF  CONVENTIONAL_FX_PAIRS     Sheet1   \n",
       "\n",
       "          sheet_line_no  \n",
       "currency                 \n",
       "ALL                   8  \n",
       "BAM                  22  \n",
       "BGN                  28  \n",
       "CHF                  47  \n",
       "CVE                  60  \n",
       "CZK                  61  \n",
       "DKK                  63  \n",
       "HRK                  98  \n",
       "HUF                 100  \n",
       "ISK                 109  \n",
       "KMF                 119  \n",
       "LTL                 137  \n",
       "LVL                 138  \n",
       "MAD                 140  \n",
       "MDL                 144  \n",
       "MKD                 147  \n",
       "NOK                 168  \n",
       "PLN                 183  \n",
       "RON                 191  \n",
       "RSD                 192  \n",
       "SEK                 201  \n",
       "STD                 212  \n",
       "STN                 213  \n",
       "XAF                 249  \n",
       "XOF                 255  \n",
       "XPF                 257  "
      ]
     },
     "execution_count": 40,
     "metadata": {},
     "output_type": "execute_result"
    }
   ],
   "source": [
    "conventional_fx_pairs.loc[conventional_fx_pairs.trades_against=='EUR',:]"
   ]
  },
  {
   "cell_type": "code",
   "execution_count": null,
   "id": "2c2a328c-536e-4034-b204-308bd35a0c94",
   "metadata": {},
   "outputs": [],
   "source": []
  },
  {
   "cell_type": "code",
   "execution_count": null,
   "id": "62ec4555-33ec-4b50-92e4-be7b4d7454b7",
   "metadata": {},
   "outputs": [],
   "source": []
  },
  {
   "cell_type": "code",
   "execution_count": null,
   "id": "14ccdaba-608d-4406-8300-55c6df6172a0",
   "metadata": {},
   "outputs": [],
   "source": []
  },
  {
   "cell_type": "code",
   "execution_count": null,
   "id": "07c01a8c-335b-45e7-9419-f866b39b86fe",
   "metadata": {},
   "outputs": [],
   "source": []
  },
  {
   "cell_type": "code",
   "execution_count": 3,
   "id": "e9c845d5-365b-4c05-b38b-2656a8904a40",
   "metadata": {},
   "outputs": [
    {
     "data": {
      "text/html": [
       "<div>\n",
       "<style scoped>\n",
       "    .dataframe tbody tr th:only-of-type {\n",
       "        vertical-align: middle;\n",
       "    }\n",
       "\n",
       "    .dataframe tbody tr th {\n",
       "        vertical-align: top;\n",
       "    }\n",
       "\n",
       "    .dataframe thead th {\n",
       "        text-align: right;\n",
       "    }\n",
       "</style>\n",
       "<table border=\"1\" class=\"dataframe\">\n",
       "  <thead>\n",
       "    <tr style=\"text-align: right;\">\n",
       "      <th></th>\n",
       "      <th>currency</th>\n",
       "      <th>trades_against</th>\n",
       "      <th>base</th>\n",
       "      <th>counter</th>\n",
       "      <th>document_name</th>\n",
       "      <th>sheet_name</th>\n",
       "      <th>sheet_line_no</th>\n",
       "    </tr>\n",
       "  </thead>\n",
       "  <tbody>\n",
       "    <tr>\n",
       "      <th>134</th>\n",
       "      <td>LSL</td>\n",
       "      <td>ZAR</td>\n",
       "      <td>ZAR</td>\n",
       "      <td>LSL</td>\n",
       "      <td>CONVENTIONAL_FX_PAIRS</td>\n",
       "      <td>Sheet1</td>\n",
       "      <td>135</td>\n",
       "    </tr>\n",
       "    <tr>\n",
       "      <th>160</th>\n",
       "      <td>NAD</td>\n",
       "      <td>ZAR</td>\n",
       "      <td>ZAR</td>\n",
       "      <td>NAD</td>\n",
       "      <td>CONVENTIONAL_FX_PAIRS</td>\n",
       "      <td>Sheet1</td>\n",
       "      <td>161</td>\n",
       "    </tr>\n",
       "    <tr>\n",
       "      <th>218</th>\n",
       "      <td>SZL</td>\n",
       "      <td>ZAR</td>\n",
       "      <td>ZAR</td>\n",
       "      <td>SZL</td>\n",
       "      <td>CONVENTIONAL_FX_PAIRS</td>\n",
       "      <td>Sheet1</td>\n",
       "      <td>219</td>\n",
       "    </tr>\n",
       "  </tbody>\n",
       "</table>\n",
       "</div>"
      ],
      "text/plain": [
       "    currency trades_against base counter          document_name sheet_name  \\\n",
       "134      LSL            ZAR  ZAR     LSL  CONVENTIONAL_FX_PAIRS     Sheet1   \n",
       "160      NAD            ZAR  ZAR     NAD  CONVENTIONAL_FX_PAIRS     Sheet1   \n",
       "218      SZL            ZAR  ZAR     SZL  CONVENTIONAL_FX_PAIRS     Sheet1   \n",
       "\n",
       "     sheet_line_no  \n",
       "134            135  \n",
       "160            161  \n",
       "218            219  "
      ]
     },
     "execution_count": 3,
     "metadata": {},
     "output_type": "execute_result"
    }
   ],
   "source": [
    "conventional_fx_pairs.loc[conventional_fx_pairs.trades_against=='ZAR',:] #lsl pegged at par, nad is pegged at par, szl also pegged"
   ]
  },
  {
   "cell_type": "code",
   "execution_count": 11,
   "id": "d151c29b-be92-41d2-86eb-0ffb100f4358",
   "metadata": {},
   "outputs": [
    {
     "data": {
      "text/html": [
       "<div>\n",
       "<style scoped>\n",
       "    .dataframe tbody tr th:only-of-type {\n",
       "        vertical-align: middle;\n",
       "    }\n",
       "\n",
       "    .dataframe tbody tr th {\n",
       "        vertical-align: top;\n",
       "    }\n",
       "\n",
       "    .dataframe thead th {\n",
       "        text-align: right;\n",
       "    }\n",
       "</style>\n",
       "<table border=\"1\" class=\"dataframe\">\n",
       "  <thead>\n",
       "    <tr style=\"text-align: right;\">\n",
       "      <th></th>\n",
       "      <th>currency</th>\n",
       "      <th>trades_against</th>\n",
       "      <th>base</th>\n",
       "      <th>counter</th>\n",
       "      <th>document_name</th>\n",
       "      <th>sheet_name</th>\n",
       "      <th>sheet_line_no</th>\n",
       "    </tr>\n",
       "  </thead>\n",
       "  <tbody>\n",
       "    <tr>\n",
       "      <th>37</th>\n",
       "      <td>BTN</td>\n",
       "      <td>INR</td>\n",
       "      <td>INR</td>\n",
       "      <td>BTN</td>\n",
       "      <td>CONVENTIONAL_FX_PAIRS</td>\n",
       "      <td>Sheet1</td>\n",
       "      <td>38</td>\n",
       "    </tr>\n",
       "    <tr>\n",
       "      <th>168</th>\n",
       "      <td>NPR</td>\n",
       "      <td>INR</td>\n",
       "      <td>INR</td>\n",
       "      <td>NPR</td>\n",
       "      <td>CONVENTIONAL_FX_PAIRS</td>\n",
       "      <td>Sheet1</td>\n",
       "      <td>169</td>\n",
       "    </tr>\n",
       "  </tbody>\n",
       "</table>\n",
       "</div>"
      ],
      "text/plain": [
       "    currency trades_against base counter          document_name sheet_name  \\\n",
       "37       BTN            INR  INR     BTN  CONVENTIONAL_FX_PAIRS     Sheet1   \n",
       "168      NPR            INR  INR     NPR  CONVENTIONAL_FX_PAIRS     Sheet1   \n",
       "\n",
       "     sheet_line_no  \n",
       "37              38  \n",
       "168            169  "
      ]
     },
     "execution_count": 11,
     "metadata": {},
     "output_type": "execute_result"
    }
   ],
   "source": [
    "conventional_fx_pairs.loc[conventional_fx_pairs.trades_against=='INR',:] #BTN is basically pegged at par, INRNPR = 1.6 peg"
   ]
  },
  {
   "cell_type": "code",
   "execution_count": 5,
   "id": "d700de83-668d-4370-a02e-793c96720ee9",
   "metadata": {},
   "outputs": [
    {
     "data": {
      "text/html": [
       "<div>\n",
       "<style scoped>\n",
       "    .dataframe tbody tr th:only-of-type {\n",
       "        vertical-align: middle;\n",
       "    }\n",
       "\n",
       "    .dataframe tbody tr th {\n",
       "        vertical-align: top;\n",
       "    }\n",
       "\n",
       "    .dataframe thead th {\n",
       "        text-align: right;\n",
       "    }\n",
       "</style>\n",
       "<table border=\"1\" class=\"dataframe\">\n",
       "  <thead>\n",
       "    <tr style=\"text-align: right;\">\n",
       "      <th></th>\n",
       "      <th>currency</th>\n",
       "      <th>trades_against</th>\n",
       "      <th>base</th>\n",
       "      <th>counter</th>\n",
       "      <th>document_name</th>\n",
       "      <th>sheet_name</th>\n",
       "      <th>sheet_line_no</th>\n",
       "    </tr>\n",
       "  </thead>\n",
       "  <tbody>\n",
       "    <tr>\n",
       "      <th>31</th>\n",
       "      <td>BND</td>\n",
       "      <td>SGD</td>\n",
       "      <td>SGD</td>\n",
       "      <td>BND</td>\n",
       "      <td>CONVENTIONAL_FX_PAIRS</td>\n",
       "      <td>Sheet1</td>\n",
       "      <td>32</td>\n",
       "    </tr>\n",
       "  </tbody>\n",
       "</table>\n",
       "</div>"
      ],
      "text/plain": [
       "   currency trades_against base counter          document_name sheet_name  \\\n",
       "31      BND            SGD  SGD     BND  CONVENTIONAL_FX_PAIRS     Sheet1   \n",
       "\n",
       "    sheet_line_no  \n",
       "31             32  "
      ]
     },
     "execution_count": 5,
     "metadata": {},
     "output_type": "execute_result"
    }
   ],
   "source": [
    "conventional_fx_pairs.loc[conventional_fx_pairs.trades_against=='SGD',:] #pegged with SGD at par"
   ]
  },
  {
   "cell_type": "code",
   "execution_count": 6,
   "id": "37c93e07-e7c1-4125-b5fd-6eb4b1b90ddf",
   "metadata": {},
   "outputs": [
    {
     "data": {
      "text/html": [
       "<div>\n",
       "<style scoped>\n",
       "    .dataframe tbody tr th:only-of-type {\n",
       "        vertical-align: middle;\n",
       "    }\n",
       "\n",
       "    .dataframe tbody tr th {\n",
       "        vertical-align: top;\n",
       "    }\n",
       "\n",
       "    .dataframe thead th {\n",
       "        text-align: right;\n",
       "    }\n",
       "</style>\n",
       "<table border=\"1\" class=\"dataframe\">\n",
       "  <thead>\n",
       "    <tr style=\"text-align: right;\">\n",
       "      <th></th>\n",
       "      <th>currency</th>\n",
       "      <th>trades_against</th>\n",
       "      <th>base</th>\n",
       "      <th>counter</th>\n",
       "      <th>document_name</th>\n",
       "      <th>sheet_name</th>\n",
       "      <th>sheet_line_no</th>\n",
       "    </tr>\n",
       "  </thead>\n",
       "  <tbody>\n",
       "    <tr>\n",
       "      <th>150</th>\n",
       "      <td>MOP</td>\n",
       "      <td>HKD</td>\n",
       "      <td>HKD</td>\n",
       "      <td>MOP</td>\n",
       "      <td>CONVENTIONAL_FX_PAIRS</td>\n",
       "      <td>Sheet1</td>\n",
       "      <td>151</td>\n",
       "    </tr>\n",
       "  </tbody>\n",
       "</table>\n",
       "</div>"
      ],
      "text/plain": [
       "    currency trades_against base counter          document_name sheet_name  \\\n",
       "150      MOP            HKD  HKD     MOP  CONVENTIONAL_FX_PAIRS     Sheet1   \n",
       "\n",
       "     sheet_line_no  \n",
       "150            151  "
      ]
     },
     "execution_count": 6,
     "metadata": {},
     "output_type": "execute_result"
    }
   ],
   "source": [
    "conventional_fx_pairs.loc[conventional_fx_pairs.trades_against=='HKD',:] #pegged to HKD at MOPHKD = 1.03"
   ]
  },
  {
   "cell_type": "code",
   "execution_count": 7,
   "id": "11f5fc15-b960-491f-baac-0b89ce175877",
   "metadata": {},
   "outputs": [
    {
     "data": {
      "text/html": [
       "<div>\n",
       "<style scoped>\n",
       "    .dataframe tbody tr th:only-of-type {\n",
       "        vertical-align: middle;\n",
       "    }\n",
       "\n",
       "    .dataframe tbody tr th {\n",
       "        vertical-align: top;\n",
       "    }\n",
       "\n",
       "    .dataframe thead th {\n",
       "        text-align: right;\n",
       "    }\n",
       "</style>\n",
       "<table border=\"1\" class=\"dataframe\">\n",
       "  <thead>\n",
       "    <tr style=\"text-align: right;\">\n",
       "      <th></th>\n",
       "      <th>currency</th>\n",
       "      <th>trades_against</th>\n",
       "      <th>base</th>\n",
       "      <th>counter</th>\n",
       "      <th>document_name</th>\n",
       "      <th>sheet_name</th>\n",
       "      <th>sheet_line_no</th>\n",
       "    </tr>\n",
       "  </thead>\n",
       "  <tbody>\n",
       "    <tr>\n",
       "      <th>229</th>\n",
       "      <td>TVD</td>\n",
       "      <td>AUD</td>\n",
       "      <td>AUD</td>\n",
       "      <td>TVD</td>\n",
       "      <td>CONVENTIONAL_FX_PAIRS</td>\n",
       "      <td>Sheet1</td>\n",
       "      <td>230</td>\n",
       "    </tr>\n",
       "  </tbody>\n",
       "</table>\n",
       "</div>"
      ],
      "text/plain": [
       "    currency trades_against base counter          document_name sheet_name  \\\n",
       "229      TVD            AUD  AUD     TVD  CONVENTIONAL_FX_PAIRS     Sheet1   \n",
       "\n",
       "     sheet_line_no  \n",
       "229            230  "
      ]
     },
     "execution_count": 7,
     "metadata": {},
     "output_type": "execute_result"
    }
   ],
   "source": [
    "conventional_fx_pairs.loc[conventional_fx_pairs.trades_against=='AUD',:] #pegged to AUD at parity"
   ]
  },
  {
   "cell_type": "code",
   "execution_count": 23,
   "id": "32bcbbf3-deab-42c6-951b-bf37c365c58c",
   "metadata": {},
   "outputs": [
    {
     "data": {
      "text/html": [
       "<div>\n",
       "<style scoped>\n",
       "    .dataframe tbody tr th:only-of-type {\n",
       "        vertical-align: middle;\n",
       "    }\n",
       "\n",
       "    .dataframe tbody tr th {\n",
       "        vertical-align: top;\n",
       "    }\n",
       "\n",
       "    .dataframe thead th {\n",
       "        text-align: right;\n",
       "    }\n",
       "</style>\n",
       "<table border=\"1\" class=\"dataframe\">\n",
       "  <thead>\n",
       "    <tr style=\"text-align: right;\">\n",
       "      <th></th>\n",
       "      <th>trades_against</th>\n",
       "      <th>base</th>\n",
       "      <th>counter</th>\n",
       "      <th>document_name</th>\n",
       "      <th>sheet_name</th>\n",
       "      <th>sheet_line_no</th>\n",
       "    </tr>\n",
       "    <tr>\n",
       "      <th>trades_against</th>\n",
       "      <th></th>\n",
       "      <th></th>\n",
       "      <th></th>\n",
       "      <th></th>\n",
       "      <th></th>\n",
       "      <th></th>\n",
       "    </tr>\n",
       "  </thead>\n",
       "  <tbody>\n",
       "    <tr>\n",
       "      <th>USD</th>\n",
       "      <td>USD</td>\n",
       "      <td>USD</td>\n",
       "      <td>USD</td>\n",
       "      <td>CONVENTIONAL_FX_PAIRS</td>\n",
       "      <td>Sheet1</td>\n",
       "      <td>237</td>\n",
       "    </tr>\n",
       "    <tr>\n",
       "      <th>EUR</th>\n",
       "      <td>USD</td>\n",
       "      <td>EUR</td>\n",
       "      <td>USD</td>\n",
       "      <td>CONVENTIONAL_FX_PAIRS</td>\n",
       "      <td>Sheet1</td>\n",
       "      <td>76</td>\n",
       "    </tr>\n",
       "    <tr>\n",
       "      <th>GBP</th>\n",
       "      <td>USD</td>\n",
       "      <td>GBP</td>\n",
       "      <td>USD</td>\n",
       "      <td>CONVENTIONAL_FX_PAIRS</td>\n",
       "      <td>Sheet1</td>\n",
       "      <td>83</td>\n",
       "    </tr>\n",
       "    <tr>\n",
       "      <th>ZAR</th>\n",
       "      <td>USD</td>\n",
       "      <td>USD</td>\n",
       "      <td>ZAR</td>\n",
       "      <td>CONVENTIONAL_FX_PAIRS</td>\n",
       "      <td>Sheet1</td>\n",
       "      <td>264</td>\n",
       "    </tr>\n",
       "    <tr>\n",
       "      <th>INR</th>\n",
       "      <td>USD</td>\n",
       "      <td>USD</td>\n",
       "      <td>INR</td>\n",
       "      <td>CONVENTIONAL_FX_PAIRS</td>\n",
       "      <td>Sheet1</td>\n",
       "      <td>106</td>\n",
       "    </tr>\n",
       "    <tr>\n",
       "      <th>SGD</th>\n",
       "      <td>USD</td>\n",
       "      <td>USD</td>\n",
       "      <td>SGD</td>\n",
       "      <td>CONVENTIONAL_FX_PAIRS</td>\n",
       "      <td>Sheet1</td>\n",
       "      <td>202</td>\n",
       "    </tr>\n",
       "    <tr>\n",
       "      <th>HKD</th>\n",
       "      <td>USD</td>\n",
       "      <td>USD</td>\n",
       "      <td>HKD</td>\n",
       "      <td>CONVENTIONAL_FX_PAIRS</td>\n",
       "      <td>Sheet1</td>\n",
       "      <td>96</td>\n",
       "    </tr>\n",
       "    <tr>\n",
       "      <th>AUD</th>\n",
       "      <td>USD</td>\n",
       "      <td>AUD</td>\n",
       "      <td>USD</td>\n",
       "      <td>CONVENTIONAL_FX_PAIRS</td>\n",
       "      <td>Sheet1</td>\n",
       "      <td>17</td>\n",
       "    </tr>\n",
       "  </tbody>\n",
       "</table>\n",
       "</div>"
      ],
      "text/plain": [
       "               trades_against base counter          document_name sheet_name  \\\n",
       "trades_against                                                                 \n",
       "USD                       USD  USD     USD  CONVENTIONAL_FX_PAIRS     Sheet1   \n",
       "EUR                       USD  EUR     USD  CONVENTIONAL_FX_PAIRS     Sheet1   \n",
       "GBP                       USD  GBP     USD  CONVENTIONAL_FX_PAIRS     Sheet1   \n",
       "ZAR                       USD  USD     ZAR  CONVENTIONAL_FX_PAIRS     Sheet1   \n",
       "INR                       USD  USD     INR  CONVENTIONAL_FX_PAIRS     Sheet1   \n",
       "SGD                       USD  USD     SGD  CONVENTIONAL_FX_PAIRS     Sheet1   \n",
       "HKD                       USD  USD     HKD  CONVENTIONAL_FX_PAIRS     Sheet1   \n",
       "AUD                       USD  AUD     USD  CONVENTIONAL_FX_PAIRS     Sheet1   \n",
       "\n",
       "                sheet_line_no  \n",
       "trades_against                 \n",
       "USD                       237  \n",
       "EUR                        76  \n",
       "GBP                        83  \n",
       "ZAR                       264  \n",
       "INR                       106  \n",
       "SGD                       202  \n",
       "HKD                        96  \n",
       "AUD                        17  "
      ]
     },
     "execution_count": 23,
     "metadata": {},
     "output_type": "execute_result"
    }
   ],
   "source": [
    "conventional_fx_pairs.set_index('currency').loc[conventional_fx_pairs.trades_against.value_counts().keys(),:]"
   ]
  },
  {
   "cell_type": "code",
   "execution_count": 73,
   "id": "21459230-1c99-4992-9155-29bdb7443c42",
   "metadata": {},
   "outputs": [
    {
     "data": {
      "text/html": [
       "<div>\n",
       "<style scoped>\n",
       "    .dataframe tbody tr th:only-of-type {\n",
       "        vertical-align: middle;\n",
       "    }\n",
       "\n",
       "    .dataframe tbody tr th {\n",
       "        vertical-align: top;\n",
       "    }\n",
       "\n",
       "    .dataframe thead th {\n",
       "        text-align: right;\n",
       "    }\n",
       "</style>\n",
       "<table border=\"1\" class=\"dataframe\">\n",
       "  <thead>\n",
       "    <tr style=\"text-align: right;\">\n",
       "      <th></th>\n",
       "      <th>ts</th>\n",
       "      <th>ccy2</th>\n",
       "      <th>bid</th>\n",
       "      <th>ask</th>\n",
       "      <th>unmarked_bid</th>\n",
       "      <th>unmarked_ask</th>\n",
       "    </tr>\n",
       "  </thead>\n",
       "  <tbody>\n",
       "  </tbody>\n",
       "</table>\n",
       "</div>"
      ],
      "text/plain": [
       "Empty DataFrame\n",
       "Columns: [ts, ccy2, bid, ask, unmarked_bid, unmarked_ask]\n",
       "Index: []"
      ]
     },
     "execution_count": 73,
     "metadata": {},
     "output_type": "execute_result"
    }
   ],
   "source": [
    "rates.loc[rates.ccy2 == 'TVD',:]"
   ]
  },
  {
   "cell_type": "code",
   "execution_count": null,
   "id": "0232909a-c0c4-4344-94a7-31b055a79e19",
   "metadata": {},
   "outputs": [],
   "source": []
  }
 ],
 "metadata": {
  "kernelspec": {
   "display_name": "Python 3 (ipykernel)",
   "language": "python",
   "name": "python3"
  },
  "language_info": {
   "codemirror_mode": {
    "name": "ipython",
    "version": 3
   },
   "file_extension": ".py",
   "mimetype": "text/x-python",
   "name": "python",
   "nbconvert_exporter": "python",
   "pygments_lexer": "ipython3",
   "version": "3.11.6"
  }
 },
 "nbformat": 4,
 "nbformat_minor": 5
}
