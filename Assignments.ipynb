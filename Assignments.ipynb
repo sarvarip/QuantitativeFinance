{
 "cells": [
  {
   "cell_type": "code",
   "execution_count": 1,
   "metadata": {},
   "outputs": [],
   "source": [
    "#Assignments for coursera course: Advanced Portoflio Construction and Analysis with Python\n",
    "import edhec_risk_kit_207 as erk\n",
    "import numpy as np\n",
    "import pandas as pd"
   ]
  },
  {
   "cell_type": "code",
   "execution_count": 4,
   "metadata": {},
   "outputs": [],
   "source": [
    "rets = erk.get_ind_returns(weighting=\"vw\", n_inds=49)[\"1991\":]"
   ]
  },
  {
   "cell_type": "code",
   "execution_count": 6,
   "metadata": {},
   "outputs": [],
   "source": [
    "fff = erk.get_fff_returns()[\"1991\":]"
   ]
  },
  {
   "cell_type": "code",
   "execution_count": 24,
   "metadata": {},
   "outputs": [],
   "source": [
    "import statsmodels.api as sm\n",
    "beer_excess = rets.loc[\"2013\":, ['Steel']] - fff.loc[\"2013\":, ['RF']].values\n",
    "mkt_excess = fff.loc[\"2013\":,['Mkt-RF']]\n",
    "exp_var = mkt_excess.copy()\n",
    "exp_var[\"Constant\"] = 1\n",
    "lm = sm.OLS(beer_excess, exp_var).fit()"
   ]
  },
  {
   "cell_type": "code",
   "execution_count": 25,
   "metadata": {},
   "outputs": [
    {
     "data": {
      "text/html": [
       "<table class=\"simpletable\">\n",
       "<caption>OLS Regression Results</caption>\n",
       "<tr>\n",
       "  <th>Dep. Variable:</th>          <td>Steel</td>      <th>  R-squared:         </th> <td>   0.470</td>\n",
       "</tr>\n",
       "<tr>\n",
       "  <th>Model:</th>                   <td>OLS</td>       <th>  Adj. R-squared:    </th> <td>   0.463</td>\n",
       "</tr>\n",
       "<tr>\n",
       "  <th>Method:</th>             <td>Least Squares</td>  <th>  F-statistic:       </th> <td>   62.18</td>\n",
       "</tr>\n",
       "<tr>\n",
       "  <th>Date:</th>             <td>Sat, 25 Dec 2021</td> <th>  Prob (F-statistic):</th> <td>2.97e-11</td>\n",
       "</tr>\n",
       "<tr>\n",
       "  <th>Time:</th>                 <td>19:20:35</td>     <th>  Log-Likelihood:    </th> <td>  116.15</td>\n",
       "</tr>\n",
       "<tr>\n",
       "  <th>No. Observations:</th>      <td>    72</td>      <th>  AIC:               </th> <td>  -228.3</td>\n",
       "</tr>\n",
       "<tr>\n",
       "  <th>Df Residuals:</th>          <td>    70</td>      <th>  BIC:               </th> <td>  -223.7</td>\n",
       "</tr>\n",
       "<tr>\n",
       "  <th>Df Model:</th>              <td>     1</td>      <th>                     </th>     <td> </td>   \n",
       "</tr>\n",
       "<tr>\n",
       "  <th>Covariance Type:</th>      <td>nonrobust</td>    <th>                     </th>     <td> </td>   \n",
       "</tr>\n",
       "</table>\n",
       "<table class=\"simpletable\">\n",
       "<tr>\n",
       "      <td></td>        <th>coef</th>     <th>std err</th>      <th>t</th>      <th>P>|t|</th>  <th>[0.025</th>    <th>0.975]</th>  \n",
       "</tr>\n",
       "<tr>\n",
       "  <th>Mkt-RF</th>   <td>    1.4169</td> <td>    0.180</td> <td>    7.885</td> <td> 0.000</td> <td>    1.059</td> <td>    1.775</td>\n",
       "</tr>\n",
       "<tr>\n",
       "  <th>Constant</th> <td>   -0.0098</td> <td>    0.006</td> <td>   -1.627</td> <td> 0.108</td> <td>   -0.022</td> <td>    0.002</td>\n",
       "</tr>\n",
       "</table>\n",
       "<table class=\"simpletable\">\n",
       "<tr>\n",
       "  <th>Omnibus:</th>       <td> 7.128</td> <th>  Durbin-Watson:     </th> <td>   2.188</td>\n",
       "</tr>\n",
       "<tr>\n",
       "  <th>Prob(Omnibus):</th> <td> 0.028</td> <th>  Jarque-Bera (JB):  </th> <td>   6.420</td>\n",
       "</tr>\n",
       "<tr>\n",
       "  <th>Skew:</th>          <td> 0.635</td> <th>  Prob(JB):          </th> <td>  0.0403</td>\n",
       "</tr>\n",
       "<tr>\n",
       "  <th>Kurtosis:</th>      <td> 3.727</td> <th>  Cond. No.          </th> <td>    31.2</td>\n",
       "</tr>\n",
       "</table><br/><br/>Warnings:<br/>[1] Standard Errors assume that the covariance matrix of the errors is correctly specified."
      ],
      "text/plain": [
       "<class 'statsmodels.iolib.summary.Summary'>\n",
       "\"\"\"\n",
       "                            OLS Regression Results                            \n",
       "==============================================================================\n",
       "Dep. Variable:                  Steel   R-squared:                       0.470\n",
       "Model:                            OLS   Adj. R-squared:                  0.463\n",
       "Method:                 Least Squares   F-statistic:                     62.18\n",
       "Date:                Sat, 25 Dec 2021   Prob (F-statistic):           2.97e-11\n",
       "Time:                        19:20:35   Log-Likelihood:                 116.15\n",
       "No. Observations:                  72   AIC:                            -228.3\n",
       "Df Residuals:                      70   BIC:                            -223.7\n",
       "Df Model:                           1                                         \n",
       "Covariance Type:            nonrobust                                         \n",
       "==============================================================================\n",
       "                 coef    std err          t      P>|t|      [0.025      0.975]\n",
       "------------------------------------------------------------------------------\n",
       "Mkt-RF         1.4169      0.180      7.885      0.000       1.059       1.775\n",
       "Constant      -0.0098      0.006     -1.627      0.108      -0.022       0.002\n",
       "==============================================================================\n",
       "Omnibus:                        7.128   Durbin-Watson:                   2.188\n",
       "Prob(Omnibus):                  0.028   Jarque-Bera (JB):                6.420\n",
       "Skew:                           0.635   Prob(JB):                       0.0403\n",
       "Kurtosis:                       3.727   Cond. No.                         31.2\n",
       "==============================================================================\n",
       "\n",
       "Warnings:\n",
       "[1] Standard Errors assume that the covariance matrix of the errors is correctly specified.\n",
       "\"\"\""
      ]
     },
     "execution_count": 25,
     "metadata": {},
     "output_type": "execute_result"
    }
   ],
   "source": [
    "lm.summary()"
   ]
  },
  {
   "cell_type": "code",
   "execution_count": 49,
   "metadata": {},
   "outputs": [
    {
     "data": {
      "text/html": [
       "<div>\n",
       "<style scoped>\n",
       "    .dataframe tbody tr th:only-of-type {\n",
       "        vertical-align: middle;\n",
       "    }\n",
       "\n",
       "    .dataframe tbody tr th {\n",
       "        vertical-align: top;\n",
       "    }\n",
       "\n",
       "    .dataframe thead th {\n",
       "        text-align: right;\n",
       "    }\n",
       "</style>\n",
       "<table border=\"1\" class=\"dataframe\">\n",
       "  <thead>\n",
       "    <tr style=\"text-align: right;\">\n",
       "      <th></th>\n",
       "      <th>Mkt-RF</th>\n",
       "      <th>SMB</th>\n",
       "      <th>HML</th>\n",
       "      <th>RF</th>\n",
       "    </tr>\n",
       "  </thead>\n",
       "  <tbody>\n",
       "    <tr>\n",
       "      <th>1991-01</th>\n",
       "      <td>0.0469</td>\n",
       "      <td>0.0379</td>\n",
       "      <td>-0.0184</td>\n",
       "      <td>0.0052</td>\n",
       "    </tr>\n",
       "    <tr>\n",
       "      <th>1991-02</th>\n",
       "      <td>0.0719</td>\n",
       "      <td>0.0395</td>\n",
       "      <td>-0.0054</td>\n",
       "      <td>0.0048</td>\n",
       "    </tr>\n",
       "    <tr>\n",
       "      <th>1991-03</th>\n",
       "      <td>0.0265</td>\n",
       "      <td>0.0389</td>\n",
       "      <td>-0.0123</td>\n",
       "      <td>0.0044</td>\n",
       "    </tr>\n",
       "    <tr>\n",
       "      <th>1991-04</th>\n",
       "      <td>-0.0028</td>\n",
       "      <td>0.0050</td>\n",
       "      <td>0.0142</td>\n",
       "      <td>0.0053</td>\n",
       "    </tr>\n",
       "    <tr>\n",
       "      <th>1991-05</th>\n",
       "      <td>0.0365</td>\n",
       "      <td>-0.0034</td>\n",
       "      <td>-0.0057</td>\n",
       "      <td>0.0047</td>\n",
       "    </tr>\n",
       "    <tr>\n",
       "      <th>...</th>\n",
       "      <td>...</td>\n",
       "      <td>...</td>\n",
       "      <td>...</td>\n",
       "      <td>...</td>\n",
       "    </tr>\n",
       "    <tr>\n",
       "      <th>2018-08</th>\n",
       "      <td>0.0344</td>\n",
       "      <td>0.0123</td>\n",
       "      <td>-0.0412</td>\n",
       "      <td>0.0016</td>\n",
       "    </tr>\n",
       "    <tr>\n",
       "      <th>2018-09</th>\n",
       "      <td>0.0006</td>\n",
       "      <td>-0.0237</td>\n",
       "      <td>-0.0134</td>\n",
       "      <td>0.0015</td>\n",
       "    </tr>\n",
       "    <tr>\n",
       "      <th>2018-10</th>\n",
       "      <td>-0.0768</td>\n",
       "      <td>-0.0468</td>\n",
       "      <td>0.0341</td>\n",
       "      <td>0.0019</td>\n",
       "    </tr>\n",
       "    <tr>\n",
       "      <th>2018-11</th>\n",
       "      <td>0.0169</td>\n",
       "      <td>-0.0074</td>\n",
       "      <td>0.0020</td>\n",
       "      <td>0.0018</td>\n",
       "    </tr>\n",
       "    <tr>\n",
       "      <th>2018-12</th>\n",
       "      <td>-0.0955</td>\n",
       "      <td>-0.0261</td>\n",
       "      <td>-0.0151</td>\n",
       "      <td>0.0019</td>\n",
       "    </tr>\n",
       "  </tbody>\n",
       "</table>\n",
       "<p>336 rows × 4 columns</p>\n",
       "</div>"
      ],
      "text/plain": [
       "         Mkt-RF     SMB     HML      RF\n",
       "1991-01  0.0469  0.0379 -0.0184  0.0052\n",
       "1991-02  0.0719  0.0395 -0.0054  0.0048\n",
       "1991-03  0.0265  0.0389 -0.0123  0.0044\n",
       "1991-04 -0.0028  0.0050  0.0142  0.0053\n",
       "1991-05  0.0365 -0.0034 -0.0057  0.0047\n",
       "...         ...     ...     ...     ...\n",
       "2018-08  0.0344  0.0123 -0.0412  0.0016\n",
       "2018-09  0.0006 -0.0237 -0.0134  0.0015\n",
       "2018-10 -0.0768 -0.0468  0.0341  0.0019\n",
       "2018-11  0.0169 -0.0074  0.0020  0.0018\n",
       "2018-12 -0.0955 -0.0261 -0.0151  0.0019\n",
       "\n",
       "[336 rows x 4 columns]"
      ]
     },
     "execution_count": 49,
     "metadata": {},
     "output_type": "execute_result"
    }
   ],
   "source": [
    "fff"
   ]
  },
  {
   "cell_type": "code",
   "execution_count": 58,
   "metadata": {},
   "outputs": [],
   "source": [
    "d = {}\n",
    "for i in rets.columns:\n",
    "    ind_excess = rets.loc[:, [i]] - fff.loc[:, ['RF']].values\n",
    "    mkt_excess = fff.loc[:,['Mkt-RF', 'SMB', 'HML']]\n",
    "    result = erk.regress(ind_excess, mkt_excess)\n",
    "    beta = result.params['SMB']\n",
    "    d[i] = beta\n",
    "    \n",
    "df = pd.Series(d)"
   ]
  },
  {
   "cell_type": "code",
   "execution_count": 59,
   "metadata": {},
   "outputs": [
    {
     "data": {
      "text/plain": [
       "Beer    -0.358655\n",
       "Drugs   -0.319486\n",
       "Smoke   -0.307794\n",
       "Food    -0.267873\n",
       "Insur   -0.251649\n",
       "Telcm   -0.194233\n",
       "Banks   -0.188034\n",
       "Util    -0.176927\n",
       "Hshld   -0.171127\n",
       "Aero    -0.141608\n",
       "Soda    -0.121587\n",
       "Meals   -0.094673\n",
       "Rtail   -0.041055\n",
       "Paper   -0.029786\n",
       "Chems   -0.024151\n",
       "ElcEq   -0.024050\n",
       "Other   -0.019304\n",
       "Oil     -0.015416\n",
       "Guns    -0.007007\n",
       "Boxes   -0.000577\n",
       "Trans    0.031009\n",
       "Clths    0.057455\n",
       "Softw    0.066100\n",
       "Fin      0.121906\n",
       "MedEq    0.125676\n",
       "Books    0.137026\n",
       "Agric    0.165856\n",
       "Ships    0.167156\n",
       "BldMt    0.195020\n",
       "Hardw    0.197752\n",
       "BusSv    0.200393\n",
       "Autos    0.206325\n",
       "Hlth     0.234674\n",
       "Whlsl    0.265499\n",
       "Mines    0.267865\n",
       "PerSv    0.273150\n",
       "Fun      0.281732\n",
       "Gold     0.289094\n",
       "Chips    0.319935\n",
       "Toys     0.329862\n",
       "Mach     0.353644\n",
       "Cnstr    0.408917\n",
       "Rubbr    0.448314\n",
       "LabEq    0.465178\n",
       "Steel    0.493311\n",
       "Coal     0.534373\n",
       "Txtls    0.535961\n",
       "RlEst    0.687456\n",
       "FabPr    0.688508\n",
       "dtype: float64"
      ]
     },
     "execution_count": 59,
     "metadata": {},
     "output_type": "execute_result"
    }
   ],
   "source": [
    "df.sort_values()"
   ]
  },
  {
   "cell_type": "code",
   "execution_count": null,
   "metadata": {},
   "outputs": [],
   "source": [
    "# Assignment 2"
   ]
  },
  {
   "cell_type": "code",
   "execution_count": 64,
   "metadata": {},
   "outputs": [],
   "source": [
    "rets = erk.get_ind_returns(weighting=\"vw\", n_inds=30)[\"1997\":]\n",
    "ind_mcap = erk.get_ind_market_caps(30, weights=True)[\"1997\":]"
   ]
  },
  {
   "cell_type": "code",
   "execution_count": 63,
   "metadata": {},
   "outputs": [],
   "source": [
    "ewr = erk.backtest_ws(rets, estimation_window=36, weighting=erk.weight_ew)"
   ]
  },
  {
   "cell_type": "code",
   "execution_count": 76,
   "metadata": {},
   "outputs": [],
   "source": [
    "tethered_ewr = erk.backtest_ws(rets, estimation_window=36, weighting=erk.weight_ew, cap_weights=ind_mcap, max_cw_mult=2, microcap_threshold=0.01)"
   ]
  },
  {
   "cell_type": "code",
   "execution_count": 66,
   "metadata": {},
   "outputs": [],
   "source": [
    "cwr = erk.backtest_ws(rets, estimation_window=36, weighting=erk.weight_cw, cap_weights=ind_mcap)"
   ]
  },
  {
   "cell_type": "code",
   "execution_count": 80,
   "metadata": {},
   "outputs": [],
   "source": [
    "mv_s_r = erk.backtest_ws(rets, estimation_window=36, weighting=erk.weight_gmv, cov_estimator=erk.sample_cov)"
   ]
  },
  {
   "cell_type": "code",
   "execution_count": 84,
   "metadata": {},
   "outputs": [],
   "source": [
    "mv_sh_r = erk.backtest_ws(rets, estimation_window=36, weighting=erk.weight_gmv, cov_estimator=erk.shrinkage_cov, delta=0.25)"
   ]
  },
  {
   "cell_type": "code",
   "execution_count": 85,
   "metadata": {},
   "outputs": [
    {
     "data": {
      "text/html": [
       "<div>\n",
       "<style scoped>\n",
       "    .dataframe tbody tr th:only-of-type {\n",
       "        vertical-align: middle;\n",
       "    }\n",
       "\n",
       "    .dataframe tbody tr th {\n",
       "        vertical-align: top;\n",
       "    }\n",
       "\n",
       "    .dataframe thead th {\n",
       "        text-align: right;\n",
       "    }\n",
       "</style>\n",
       "<table border=\"1\" class=\"dataframe\">\n",
       "  <thead>\n",
       "    <tr style=\"text-align: right;\">\n",
       "      <th></th>\n",
       "      <th>Annualized Return</th>\n",
       "      <th>Annualized Vol</th>\n",
       "      <th>Skewness</th>\n",
       "      <th>Kurtosis</th>\n",
       "      <th>Cornish-Fisher VaR (5%)</th>\n",
       "      <th>Historic CVaR (5%)</th>\n",
       "      <th>Sharpe Ratio</th>\n",
       "      <th>Max Drawdown</th>\n",
       "    </tr>\n",
       "  </thead>\n",
       "  <tbody>\n",
       "    <tr>\n",
       "      <th>EW</th>\n",
       "      <td>0.077614</td>\n",
       "      <td>0.158685</td>\n",
       "      <td>-0.538531</td>\n",
       "      <td>5.317042</td>\n",
       "      <td>0.072485</td>\n",
       "      <td>0.106220</td>\n",
       "      <td>0.291838</td>\n",
       "      <td>-0.532980</td>\n",
       "    </tr>\n",
       "    <tr>\n",
       "      <th>CW</th>\n",
       "      <td>0.065196</td>\n",
       "      <td>0.151478</td>\n",
       "      <td>-0.556621</td>\n",
       "      <td>4.249894</td>\n",
       "      <td>0.071076</td>\n",
       "      <td>0.098531</td>\n",
       "      <td>0.225949</td>\n",
       "      <td>-0.518990</td>\n",
       "    </tr>\n",
       "    <tr>\n",
       "      <th>Tethered</th>\n",
       "      <td>0.076838</td>\n",
       "      <td>0.140774</td>\n",
       "      <td>-0.649872</td>\n",
       "      <td>4.664374</td>\n",
       "      <td>0.065482</td>\n",
       "      <td>0.093766</td>\n",
       "      <td>0.323653</td>\n",
       "      <td>-0.487413</td>\n",
       "    </tr>\n",
       "    <tr>\n",
       "      <th>GMV</th>\n",
       "      <td>0.066305</td>\n",
       "      <td>0.117410</td>\n",
       "      <td>-0.741086</td>\n",
       "      <td>4.469204</td>\n",
       "      <td>0.055456</td>\n",
       "      <td>0.080583</td>\n",
       "      <td>0.300812</td>\n",
       "      <td>-0.421289</td>\n",
       "    </tr>\n",
       "    <tr>\n",
       "      <th>Shrinkage GMV</th>\n",
       "      <td>0.068466</td>\n",
       "      <td>0.114572</td>\n",
       "      <td>-0.731286</td>\n",
       "      <td>4.264934</td>\n",
       "      <td>0.053884</td>\n",
       "      <td>0.077715</td>\n",
       "      <td>0.326626</td>\n",
       "      <td>-0.393410</td>\n",
       "    </tr>\n",
       "  </tbody>\n",
       "</table>\n",
       "</div>"
      ],
      "text/plain": [
       "               Annualized Return  Annualized Vol  Skewness  Kurtosis  \\\n",
       "EW                      0.077614        0.158685 -0.538531  5.317042   \n",
       "CW                      0.065196        0.151478 -0.556621  4.249894   \n",
       "Tethered                0.076838        0.140774 -0.649872  4.664374   \n",
       "GMV                     0.066305        0.117410 -0.741086  4.469204   \n",
       "Shrinkage GMV           0.068466        0.114572 -0.731286  4.264934   \n",
       "\n",
       "               Cornish-Fisher VaR (5%)  Historic CVaR (5%)  Sharpe Ratio  \\\n",
       "EW                            0.072485            0.106220      0.291838   \n",
       "CW                            0.071076            0.098531      0.225949   \n",
       "Tethered                      0.065482            0.093766      0.323653   \n",
       "GMV                           0.055456            0.080583      0.300812   \n",
       "Shrinkage GMV                 0.053884            0.077715      0.326626   \n",
       "\n",
       "               Max Drawdown  \n",
       "EW                -0.532980  \n",
       "CW                -0.518990  \n",
       "Tethered          -0.487413  \n",
       "GMV               -0.421289  \n",
       "Shrinkage GMV     -0.393410  "
      ]
     },
     "execution_count": 85,
     "metadata": {},
     "output_type": "execute_result"
    },
    {
     "data": {
      "image/png": "[encoded data removed]",
      "text/plain": [
       "<Figure size 864x432 with 1 Axes>"
      ]
     },
     "metadata": {
      "needs_background": "light"
     },
     "output_type": "display_data"
    }
   ],
   "source": [
    "btr = pd.DataFrame({\"EW\": ewr, \"CW\": cwr, \"Tethered\": tethered_ewr, \"GMV\": mv_s_r, \"Shrinkage GMV\": mv_sh_r})\n",
    "(1+btr).cumprod().plot(figsize=(12,6), title=\"Industry Portfolios - CW vs EW\")\n",
    "erk.summary_stats(btr.dropna())"
   ]
  },
  {
   "cell_type": "code",
   "execution_count": 82,
   "metadata": {},
   "outputs": [
    {
     "data": {
      "text/plain": [
       "(0.18752094143646486, 0.11671015519949166)"
      ]
     },
     "execution_count": 82,
     "metadata": {},
     "output_type": "execute_result"
    }
   ],
   "source": [
    "erk.tracking_error(ewr, cwr),erk.tracking_error(tethered_ewr, cwr)"
   ]
  },
  {
   "cell_type": "code",
   "execution_count": null,
   "metadata": {},
   "outputs": [],
   "source": [
    "# Assignment 3"
   ]
  },
  {
   "cell_type": "code",
   "execution_count": 76,
   "metadata": {},
   "outputs": [],
   "source": [
    "ind = ['Hlth', 'Fin', 'Whlsl', 'Rtail', 'Food']\n",
    "rets = erk.get_ind_returns(weighting=\"vw\", n_inds=49)[\"2013\":][ind]\n",
    "mcap = erk.get_ind_market_caps(49, weights=True)[\"2013\":][ind]"
   ]
  },
  {
   "cell_type": "code",
   "execution_count": 102,
   "metadata": {},
   "outputs": [],
   "source": [
    "w_eq = erk.weight_cw(rets, mcap)"
   ]
  },
  {
   "cell_type": "code",
   "execution_count": 103,
   "metadata": {},
   "outputs": [
    {
     "data": {
      "text/plain": [
       "Hlth     0.042624\n",
       "Fin      0.184533\n",
       "Whlsl    0.096043\n",
       "Rtail    0.537344\n",
       "Food     0.139456\n",
       "Name: 2013-02, dtype: float64"
      ]
     },
     "execution_count": 103,
     "metadata": {},
     "output_type": "execute_result"
    }
   ],
   "source": [
    "w_eq"
   ]
  },
  {
   "cell_type": "code",
   "execution_count": 104,
   "metadata": {},
   "outputs": [],
   "source": [
    "vol = erk.annualize_vol(rets, 12)\n",
    "\n",
    "rho = rets.corr()\n",
    "\n",
    "sigma = vol.dot(vol.T)*rho"
   ]
  },
  {
   "cell_type": "code",
   "execution_count": 105,
   "metadata": {},
   "outputs": [],
   "source": [
    "implied_rets = erk.implied_returns(delta=2.5, sigma=sigma, w=w_eq)"
   ]
  },
  {
   "cell_type": "code",
   "execution_count": 106,
   "metadata": {},
   "outputs": [
    {
     "data": {
      "text/plain": [
       "Hlth     0.152854\n",
       "Fin      0.176483\n",
       "Whlsl    0.201786\n",
       "Rtail    0.223770\n",
       "Food     0.157528\n",
       "Name: Implied Returns, dtype: float64"
      ]
     },
     "execution_count": 106,
     "metadata": {},
     "output_type": "execute_result"
    }
   ],
   "source": [
    "implied_rets"
   ]
  },
  {
   "cell_type": "code",
   "execution_count": 121,
   "metadata": {},
   "outputs": [],
   "source": [
    "q = pd.Series([.03]) # just one view\n",
    "# start with a single view, all zeros and overwrite the specific view\n",
    "p = pd.DataFrame([0.]*len(ind), index=ind).T\n",
    "# find the relative market caps of FR and UK to split the\n",
    "# relative outperformance of DE ...\n",
    "w_rtail =  w_eq.loc[\"Rtail\"]/(w_eq.loc[\"Rtail\"]+w_eq.loc[\"Whlsl\"])\n",
    "w_whlsl =  w_eq.loc[\"Whlsl\"]/(w_eq.loc[\"Rtail\"]+w_eq.loc[\"Whlsl\"])\n",
    "p.iloc[0]['Hlth'] = 1.\n",
    "p.iloc[0]['Rtail'] = -w_rtail\n",
    "p.iloc[0]['Whlsl'] = -w_whlsl"
   ]
  },
  {
   "cell_type": "code",
   "execution_count": 122,
   "metadata": {},
   "outputs": [
    {
     "data": {
      "text/html": [
       "<div>\n",
       "<style scoped>\n",
       "    .dataframe tbody tr th:only-of-type {\n",
       "        vertical-align: middle;\n",
       "    }\n",
       "\n",
       "    .dataframe tbody tr th {\n",
       "        vertical-align: top;\n",
       "    }\n",
       "\n",
       "    .dataframe thead th {\n",
       "        text-align: right;\n",
       "    }\n",
       "</style>\n",
       "<table border=\"1\" class=\"dataframe\">\n",
       "  <thead>\n",
       "    <tr style=\"text-align: right;\">\n",
       "      <th></th>\n",
       "      <th>Hlth</th>\n",
       "      <th>Fin</th>\n",
       "      <th>Whlsl</th>\n",
       "      <th>Rtail</th>\n",
       "      <th>Food</th>\n",
       "    </tr>\n",
       "  </thead>\n",
       "  <tbody>\n",
       "    <tr>\n",
       "      <th>0</th>\n",
       "      <td>1.0</td>\n",
       "      <td>0.0</td>\n",
       "      <td>-0.151635</td>\n",
       "      <td>-0.848365</td>\n",
       "      <td>0.0</td>\n",
       "    </tr>\n",
       "  </tbody>\n",
       "</table>\n",
       "</div>"
      ],
      "text/plain": [
       "   Hlth  Fin     Whlsl     Rtail  Food\n",
       "0   1.0  0.0 -0.151635 -0.848365   0.0"
      ]
     },
     "execution_count": 122,
     "metadata": {},
     "output_type": "execute_result"
    }
   ],
   "source": [
    "p"
   ]
  },
  {
   "cell_type": "code",
   "execution_count": 123,
   "metadata": {},
   "outputs": [],
   "source": [
    "bl_mu, bl_sigma = erk.bl(w_eq, sigma, p, q, tau = 0.05)"
   ]
  },
  {
   "cell_type": "code",
   "execution_count": 124,
   "metadata": {},
   "outputs": [
    {
     "data": {
      "text/plain": [
       "Hlth     0.179360\n",
       "Fin      0.170206\n",
       "Whlsl    0.193356\n",
       "Rtail    0.199007\n",
       "Food     0.144841\n",
       "dtype: float64"
      ]
     },
     "execution_count": 124,
     "metadata": {},
     "output_type": "execute_result"
    }
   ],
   "source": [
    "bl_mu"
   ]
  },
  {
   "cell_type": "code",
   "execution_count": 125,
   "metadata": {},
   "outputs": [
    {
     "data": {
      "text/plain": [
       "Hlth     0.275883\n",
       "Fin      0.184533\n",
       "Whlsl    0.060673\n",
       "Rtail    0.339455\n",
       "Food     0.139456\n",
       "dtype: float64"
      ]
     },
     "execution_count": 125,
     "metadata": {},
     "output_type": "execute_result"
    }
   ],
   "source": [
    "erk.w_msr(bl_sigma, bl_mu)"
   ]
  },
  {
   "cell_type": "code",
   "execution_count": null,
   "metadata": {},
   "outputs": [],
   "source": [
    "# Assignment 4"
   ]
  },
  {
   "cell_type": "code",
   "execution_count": 126,
   "metadata": {},
   "outputs": [],
   "source": [
    "rets = erk.get_ind_returns(weighting=\"vw\", n_inds=49)[\"2014\":]\n",
    "mcap = erk.get_ind_market_caps(49, weights=True)[\"2014\":]"
   ]
  },
  {
   "cell_type": "code",
   "execution_count": 131,
   "metadata": {},
   "outputs": [
    {
     "data": {
      "text/plain": [
       "Banks    0.104060\n",
       "Softw    0.093745\n",
       "Oil      0.088914\n",
       "Drugs    0.084653\n",
       "Rtail    0.070120\n",
       "Chips    0.063869\n",
       "Telcm    0.046113\n",
       "Other    0.042484\n",
       "Insur    0.039418\n",
       "Mach     0.030455\n",
       "Fin      0.028291\n",
       "Trans    0.026039\n",
       "Chems    0.025071\n",
       "BusSv    0.021816\n",
       "Hardw    0.018487\n",
       "Autos    0.016170\n",
       "Aero     0.014904\n",
       "LabEq    0.014527\n",
       "Whlsl    0.013434\n",
       "MedEq    0.012792\n",
       "Hshld    0.011568\n",
       "Paper    0.011139\n",
       "Meals    0.010572\n",
       "Food     0.010084\n",
       "Util     0.009626\n",
       "Fun      0.009335\n",
       "ElcEq    0.007693\n",
       "Cnstr    0.007428\n",
       "Clths    0.006676\n",
       "Smoke    0.006470\n",
       "Soda     0.006309\n",
       "BldMt    0.006061\n",
       "Steel    0.005182\n",
       "Mines    0.004954\n",
       "Beer     0.004776\n",
       "Hlth     0.004203\n",
       "PerSv    0.003219\n",
       "Agric    0.002886\n",
       "RlEst    0.002803\n",
       "Boxes    0.002595\n",
       "Guns     0.002263\n",
       "Rubbr    0.001972\n",
       "Toys     0.001796\n",
       "Ships    0.001276\n",
       "Txtls    0.001276\n",
       "Books    0.001203\n",
       "Coal     0.000870\n",
       "FabPr    0.000309\n",
       "Gold     0.000096\n",
       "dtype: float64"
      ]
     },
     "execution_count": 131,
     "metadata": {},
     "output_type": "execute_result"
    }
   ],
   "source": [
    "cov = rets.cov()\n",
    "erk.risk_contribution(mcap.iloc[0,:], cov).sort_values(ascending=False)"
   ]
  },
  {
   "cell_type": "code",
   "execution_count": 134,
   "metadata": {},
   "outputs": [
    {
     "data": {
      "text/plain": [
       "Steel    0.030938\n",
       "Ships    0.030005\n",
       "Coal     0.029025\n",
       "Mines    0.028641\n",
       "BldMt    0.028106\n",
       "Mach     0.027558\n",
       "FabPr    0.027473\n",
       "RlEst    0.026693\n",
       "Txtls    0.026679\n",
       "ElcEq    0.026376\n",
       "Chems    0.026042\n",
       "Boxes    0.025176\n",
       "Books    0.024772\n",
       "Cnstr    0.024585\n",
       "Oil      0.023372\n",
       "Toys     0.023371\n",
       "Autos    0.023338\n",
       "Trans    0.022935\n",
       "Fin      0.022416\n",
       "Fun      0.022200\n",
       "Banks    0.021622\n",
       "Rubbr    0.021541\n",
       "LabEq    0.021497\n",
       "Aero     0.021306\n",
       "Paper    0.021104\n",
       "Whlsl    0.020881\n",
       "BusSv    0.020757\n",
       "Hardw    0.020570\n",
       "Chips    0.020140\n",
       "PerSv    0.019258\n",
       "Drugs    0.019058\n",
       "Rtail    0.019039\n",
       "Insur    0.018249\n",
       "MedEq    0.017747\n",
       "Softw    0.017357\n",
       "Hlth     0.017251\n",
       "Agric    0.016982\n",
       "Guns     0.015950\n",
       "Other    0.015948\n",
       "Telcm    0.015910\n",
       "Meals    0.013261\n",
       "Clths    0.012855\n",
       "Gold     0.012449\n",
       "Soda     0.012041\n",
       "Food     0.011227\n",
       "Beer     0.010500\n",
       "Hshld    0.010492\n",
       "Smoke    0.009393\n",
       "Util     0.005916\n",
       "dtype: float64"
      ]
     },
     "execution_count": 134,
     "metadata": {},
     "output_type": "execute_result"
    }
   ],
   "source": [
    "erk.risk_contribution(erk.weight_ew(rets), cov).sort_values(ascending=False)"
   ]
  },
  {
   "cell_type": "code",
   "execution_count": 142,
   "metadata": {},
   "outputs": [
    {
     "data": {
      "text/plain": [
       "Util     0.052156\n",
       "Hshld    0.033184\n",
       "Smoke    0.032606\n",
       "Beer     0.032028\n",
       "Food     0.030251\n",
       "Clths    0.029129\n",
       "Soda     0.028233\n",
       "Meals    0.027907\n",
       "Gold     0.027282\n",
       "Guns     0.023809\n",
       "Other    0.023423\n",
       "Telcm    0.023133\n",
       "Agric    0.022479\n",
       "Hlth     0.022246\n",
       "Softw    0.021963\n",
       "Insur    0.020970\n",
       "MedEq    0.020907\n",
       "PerSv    0.019924\n",
       "Drugs    0.019730\n",
       "Rtail    0.019567\n",
       "Chips    0.018878\n",
       "Hardw    0.018654\n",
       "BusSv    0.018456\n",
       "Banks    0.018445\n",
       "Whlsl    0.018421\n",
       "Aero     0.017984\n",
       "Fin      0.017833\n",
       "Paper    0.017761\n",
       "LabEq    0.017751\n",
       "Rubbr    0.017747\n",
       "Fun      0.017663\n",
       "Oil      0.016764\n",
       "Trans    0.016763\n",
       "Autos    0.016726\n",
       "Toys     0.016271\n",
       "Cnstr    0.015924\n",
       "Books    0.015425\n",
       "Boxes    0.015247\n",
       "FabPr    0.015183\n",
       "Chems    0.014918\n",
       "Coal     0.014759\n",
       "ElcEq    0.014747\n",
       "Txtls    0.014440\n",
       "RlEst    0.014429\n",
       "Mach     0.014292\n",
       "Mines    0.013951\n",
       "BldMt    0.013790\n",
       "Ships    0.013041\n",
       "Steel    0.012809\n",
       "dtype: float64"
      ]
     },
     "execution_count": 142,
     "metadata": {},
     "output_type": "execute_result"
    }
   ],
   "source": [
    "pd.Series(erk.weight_erc(rets), index=rets.columns).sort_values(ascending=False)"
   ]
  },
  {
   "cell_type": "code",
   "execution_count": 143,
   "metadata": {},
   "outputs": [
    {
     "data": {
      "text/plain": [
       "0.02502175762491148"
      ]
     },
     "execution_count": 143,
     "metadata": {},
     "output_type": "execute_result"
    }
   ],
   "source": [
    "erk.risk_contribution(erk.weight_ew(rets), cov).max()-erk.risk_contribution(erk.weight_ew(rets), cov).min()"
   ]
  },
  {
   "cell_type": "code",
   "execution_count": 144,
   "metadata": {},
   "outputs": [
    {
     "data": {
      "text/plain": [
       "0.1039644943981684"
      ]
     },
     "execution_count": 144,
     "metadata": {},
     "output_type": "execute_result"
    }
   ],
   "source": [
    "cov = rets.cov()\n",
    "erk.risk_contribution(mcap.iloc[0,:], cov).max()-erk.risk_contribution(mcap.iloc[0,:], cov).min()"
   ]
  },
  {
   "cell_type": "code",
   "execution_count": null,
   "metadata": {},
   "outputs": [],
   "source": []
  }
 ],
 "metadata": {
  "kernelspec": {
   "display_name": "Python 3",
   "language": "python",
   "name": "python3"
  },
  "language_info": {
   "codemirror_mode": {
    "name": "ipython",
    "version": 3
   },
   "file_extension": ".py",
   "mimetype": "text/x-python",
   "name": "python",
   "nbconvert_exporter": "python",
   "pygments_lexer": "ipython3",
   "version": "3.7.6"
  }
 },
 "nbformat": 4,
 "nbformat_minor": 4
}
