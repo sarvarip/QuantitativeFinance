{
 "cells": [
  {
   "cell_type": "code",
   "execution_count": 18,
   "metadata": {},
   "outputs": [],
   "source": [
    "import pandas as pd\n",
    "excel = pd.read_excel('result.xlsx')"
   ]
  },
  {
   "cell_type": "code",
   "execution_count": 19,
   "metadata": {},
   "outputs": [
    {
     "data": {
      "text/plain": [
       "<matplotlib.axes._subplots.AxesSubplot at 0x2880afb7c08>"
      ]
     },
     "execution_count": 19,
     "metadata": {},
     "output_type": "execute_result"
    },
    {
     "data": {
      "image/png": "[encoded data removed]",
      "text/plain": [
       "<Figure size 432x288 with 1 Axes>"
      ]
     },
     "metadata": {
      "needs_background": "light"
     },
     "output_type": "display_data"
    }
   ],
   "source": [
    "excel.SDG_11_NET_ALIGNMENT_SCORE.hist()"
   ]
  },
  {
   "cell_type": "code",
   "execution_count": 20,
   "metadata": {},
   "outputs": [],
   "source": [
    "realestate = ['Building Products', 'Real Estate Operating Companies', 'Diversified REITs', 'Homebuilding', 'Construction Materials', 'Construction & Engineering', 'Retail REITs']\n",
    "banks = ['Diversified Banks']\n",
    "energy = ['Electric Utilities', 'Multi-Utilities', 'Heavy Electrical Equipment', 'Gas Utilities', 'Renewable Electricity']\n",
    "materials = ['Water Utilities', 'Oil & Gas Exploration & Production', 'Steel']\n",
    "\n",
    "selected = realestate + banks + energy + materials\n",
    "\n",
    "excel = excel.loc[excel.GICS_SUB_IND.isin(selected),:]"
   ]
  },
  {
   "cell_type": "code",
   "execution_count": 21,
   "metadata": {},
   "outputs": [
    {
     "data": {
      "text/html": [
       "<div>\n",
       "<style scoped>\n",
       "    .dataframe tbody tr th:only-of-type {\n",
       "        vertical-align: middle;\n",
       "    }\n",
       "\n",
       "    .dataframe tbody tr th {\n",
       "        vertical-align: top;\n",
       "    }\n",
       "\n",
       "    .dataframe thead th {\n",
       "        text-align: right;\n",
       "    }\n",
       "</style>\n",
       "<table border=\"1\" class=\"dataframe\">\n",
       "  <thead>\n",
       "    <tr style=\"text-align: right;\">\n",
       "      <th></th>\n",
       "      <th>ISSUER_NAME</th>\n",
       "      <th>ISSUERID</th>\n",
       "      <th>ISSUER_TICKER</th>\n",
       "      <th>ISSUER_CUSIP</th>\n",
       "      <th>ISSUER_SEDOL</th>\n",
       "      <th>ISSUER_ISIN</th>\n",
       "      <th>ISSUER_CNTRY_DOMICILE</th>\n",
       "      <th>INDUSTRY_ADJUSTED_SCORE</th>\n",
       "      <th>SDG_11_NET_ALIGNMENT_SCORE</th>\n",
       "      <th>CT_GREEN_BLDG_MAX_REV</th>\n",
       "      <th>GICS_SUB_IND</th>\n",
       "      <th>OPPS_GREEN_BUILDING_EXP_SCORE</th>\n",
       "    </tr>\n",
       "  </thead>\n",
       "  <tbody>\n",
       "    <tr>\n",
       "      <th>49</th>\n",
       "      <td>BARCLAYS PLC</td>\n",
       "      <td>IID000000002132088</td>\n",
       "      <td>GBUG</td>\n",
       "      <td>06738E204</td>\n",
       "      <td>3134865</td>\n",
       "      <td>GB0031348658</td>\n",
       "      <td>GB</td>\n",
       "      <td>8.57</td>\n",
       "      <td>-0.5</td>\n",
       "      <td>0.0</td>\n",
       "      <td>Diversified Banks</td>\n",
       "      <td>0.0</td>\n",
       "    </tr>\n",
       "  </tbody>\n",
       "</table>\n",
       "</div>"
      ],
      "text/plain": [
       "     ISSUER_NAME            ISSUERID ISSUER_TICKER ISSUER_CUSIP ISSUER_SEDOL  \\\n",
       "49  BARCLAYS PLC  IID000000002132088          GBUG    06738E204      3134865   \n",
       "\n",
       "     ISSUER_ISIN ISSUER_CNTRY_DOMICILE  INDUSTRY_ADJUSTED_SCORE  \\\n",
       "49  GB0031348658                    GB                     8.57   \n",
       "\n",
       "    SDG_11_NET_ALIGNMENT_SCORE  CT_GREEN_BLDG_MAX_REV       GICS_SUB_IND  \\\n",
       "49                        -0.5                    0.0  Diversified Banks   \n",
       "\n",
       "    OPPS_GREEN_BUILDING_EXP_SCORE  \n",
       "49                            0.0  "
      ]
     },
     "execution_count": 21,
     "metadata": {},
     "output_type": "execute_result"
    }
   ],
   "source": [
    "excel.loc[excel.ISSUER_TICKER=='GBUG',:]"
   ]
  },
  {
   "cell_type": "code",
   "execution_count": 22,
   "metadata": {},
   "outputs": [
    {
     "data": {
      "text/plain": [
       "<matplotlib.axes._subplots.AxesSubplot at 0x2880eb6e508>"
      ]
     },
     "execution_count": 22,
     "metadata": {},
     "output_type": "execute_result"
    },
    {
     "data": {
      "image/png": "[encoded data removed]",
      "text/plain": [
       "<Figure size 432x288 with 1 Axes>"
      ]
     },
     "metadata": {
      "needs_background": "light"
     },
     "output_type": "display_data"
    }
   ],
   "source": [
    "excel.SDG_11_NET_ALIGNMENT_SCORE.hist()"
   ]
  },
  {
   "cell_type": "code",
   "execution_count": 23,
   "metadata": {},
   "outputs": [],
   "source": [
    "#import yfinance as yf  \n",
    "\n",
    "#dataLong = yf.download(excel.ISSUER_TICKER.values.tolist(),'2020-05-06','2022-05-06')\n",
    "#dataLong['Close'].to_csv('dataLongESGHackathonSmartCity.csv')"
   ]
  },
  {
   "cell_type": "code",
   "execution_count": 24,
   "metadata": {},
   "outputs": [],
   "source": [
    "dataLong = pd.read_csv('dataLongESGHackathonSmartCity.csv')"
   ]
  },
  {
   "cell_type": "code",
   "execution_count": 25,
   "metadata": {},
   "outputs": [
    {
     "data": {
      "text/html": [
       "<div>\n",
       "<style scoped>\n",
       "    .dataframe tbody tr th:only-of-type {\n",
       "        vertical-align: middle;\n",
       "    }\n",
       "\n",
       "    .dataframe tbody tr th {\n",
       "        vertical-align: top;\n",
       "    }\n",
       "\n",
       "    .dataframe thead th {\n",
       "        text-align: right;\n",
       "    }\n",
       "</style>\n",
       "<table border=\"1\" class=\"dataframe\">\n",
       "  <thead>\n",
       "    <tr style=\"text-align: right;\">\n",
       "      <th></th>\n",
       "      <th>ISSUER_NAME</th>\n",
       "      <th>ISSUERID</th>\n",
       "      <th>ISSUER_TICKER</th>\n",
       "      <th>ISSUER_CUSIP</th>\n",
       "      <th>ISSUER_SEDOL</th>\n",
       "      <th>ISSUER_ISIN</th>\n",
       "      <th>ISSUER_CNTRY_DOMICILE</th>\n",
       "      <th>INDUSTRY_ADJUSTED_SCORE</th>\n",
       "      <th>SDG_11_NET_ALIGNMENT_SCORE</th>\n",
       "      <th>CT_GREEN_BLDG_MAX_REV</th>\n",
       "      <th>GICS_SUB_IND</th>\n",
       "      <th>OPPS_GREEN_BUILDING_EXP_SCORE</th>\n",
       "    </tr>\n",
       "  </thead>\n",
       "  <tbody>\n",
       "    <tr>\n",
       "      <th>181</th>\n",
       "      <td>BANCO SANTANDER, S.A.</td>\n",
       "      <td>IID000000002159005</td>\n",
       "      <td>SAN</td>\n",
       "      <td>05964H105</td>\n",
       "      <td>5705946</td>\n",
       "      <td>ES0113900J37</td>\n",
       "      <td>ES</td>\n",
       "      <td>7.6</td>\n",
       "      <td>-0.5</td>\n",
       "      <td>0.0</td>\n",
       "      <td>Diversified Banks</td>\n",
       "      <td>0.0</td>\n",
       "    </tr>\n",
       "  </tbody>\n",
       "</table>\n",
       "</div>"
      ],
      "text/plain": [
       "               ISSUER_NAME            ISSUERID ISSUER_TICKER ISSUER_CUSIP  \\\n",
       "181  BANCO SANTANDER, S.A.  IID000000002159005           SAN    05964H105   \n",
       "\n",
       "    ISSUER_SEDOL   ISSUER_ISIN ISSUER_CNTRY_DOMICILE  INDUSTRY_ADJUSTED_SCORE  \\\n",
       "181      5705946  ES0113900J37                    ES                      7.6   \n",
       "\n",
       "     SDG_11_NET_ALIGNMENT_SCORE  CT_GREEN_BLDG_MAX_REV       GICS_SUB_IND  \\\n",
       "181                        -0.5                    0.0  Diversified Banks   \n",
       "\n",
       "     OPPS_GREEN_BUILDING_EXP_SCORE  \n",
       "181                            0.0  "
      ]
     },
     "execution_count": 25,
     "metadata": {},
     "output_type": "execute_result"
    }
   ],
   "source": [
    "excel.loc[excel.ISSUER_TICKER == 'SAN']"
   ]
  },
  {
   "cell_type": "code",
   "execution_count": 26,
   "metadata": {},
   "outputs": [],
   "source": [
    "port = dataLong.dropna(axis=1)"
   ]
  },
  {
   "cell_type": "code",
   "execution_count": 27,
   "metadata": {},
   "outputs": [],
   "source": [
    "port['ISP'] #price doesn't change, exclude\n",
    "port = port.drop('ISP', axis=1)"
   ]
  },
  {
   "cell_type": "code",
   "execution_count": 28,
   "metadata": {},
   "outputs": [],
   "source": [
    "#port = port.drop('SAN', axis=1) #two SAN tickers"
   ]
  },
  {
   "cell_type": "code",
   "execution_count": 29,
   "metadata": {},
   "outputs": [],
   "source": [
    "esg = excel.loc[excel.ISSUER_TICKER.isin(port.columns), ['ISSUER_TICKER', 'SDG_11_NET_ALIGNMENT_SCORE']].set_index('ISSUER_TICKER')['SDG_11_NET_ALIGNMENT_SCORE']"
   ]
  },
  {
   "cell_type": "code",
   "execution_count": 30,
   "metadata": {},
   "outputs": [],
   "source": [
    "port = port.set_index('Date')"
   ]
  },
  {
   "cell_type": "code",
   "execution_count": 31,
   "metadata": {},
   "outputs": [
    {
     "data": {
      "text/plain": [
       "Index(['ACA', 'BBVA', 'CRH', 'DG', 'EBS', 'EDF', 'ENG', 'ENR', 'FBK', 'GBUG',\n",
       "       'HEI', 'LAND', 'LEG', 'NWG', 'PSN', 'SAN', 'SRG', 'SVT', 'TRN', 'VOE'],\n",
       "      dtype='object')"
      ]
     },
     "execution_count": 31,
     "metadata": {},
     "output_type": "execute_result"
    }
   ],
   "source": [
    "port.columns"
   ]
  },
  {
   "cell_type": "code",
   "execution_count": 32,
   "metadata": {},
   "outputs": [],
   "source": [
    "import edhec_risk_kit_207 as erk"
   ]
  },
  {
   "cell_type": "code",
   "execution_count": 33,
   "metadata": {},
   "outputs": [],
   "source": [
    "rets = (port.shift(-1)-port)/port"
   ]
  },
  {
   "cell_type": "code",
   "execution_count": 34,
   "metadata": {},
   "outputs": [],
   "source": [
    "PERIODS_PER_YEAR = 261\n",
    "RISKFREE_RATE = 0.01"
   ]
  },
  {
   "cell_type": "code",
   "execution_count": 73,
   "metadata": {},
   "outputs": [],
   "source": [
    "er_train = erk.annualize_rets(rets[:'2021-05'],PERIODS_PER_YEAR)"
   ]
  },
  {
   "cell_type": "code",
   "execution_count": 37,
   "metadata": {},
   "outputs": [
    {
     "data": {
      "text/html": [
       "<div>\n",
       "<style scoped>\n",
       "    .dataframe tbody tr th:only-of-type {\n",
       "        vertical-align: middle;\n",
       "    }\n",
       "\n",
       "    .dataframe tbody tr th {\n",
       "        vertical-align: top;\n",
       "    }\n",
       "\n",
       "    .dataframe thead th {\n",
       "        text-align: right;\n",
       "    }\n",
       "</style>\n",
       "<table border=\"1\" class=\"dataframe\">\n",
       "  <thead>\n",
       "    <tr style=\"text-align: right;\">\n",
       "      <th></th>\n",
       "      <th>Annualized Return</th>\n",
       "      <th>Annualized Vol</th>\n",
       "      <th>Skewness</th>\n",
       "      <th>Kurtosis</th>\n",
       "      <th>Cornish-Fisher VaR (5%)</th>\n",
       "      <th>Historic CVaR (5%)</th>\n",
       "      <th>Sharpe Ratio</th>\n",
       "      <th>Max Drawdown</th>\n",
       "    </tr>\n",
       "  </thead>\n",
       "  <tbody>\n",
       "    <tr>\n",
       "      <th>ACA</th>\n",
       "      <td>0.252549</td>\n",
       "      <td>0.388181</td>\n",
       "      <td>-0.233446</td>\n",
       "      <td>7.487217</td>\n",
       "      <td>0.037725</td>\n",
       "      <td>0.050507</td>\n",
       "      <td>0.618666</td>\n",
       "      <td>-0.360106</td>\n",
       "    </tr>\n",
       "    <tr>\n",
       "      <th>BBVA</th>\n",
       "      <td>0.282125</td>\n",
       "      <td>0.448359</td>\n",
       "      <td>0.601813</td>\n",
       "      <td>7.299960</td>\n",
       "      <td>0.036933</td>\n",
       "      <td>0.059210</td>\n",
       "      <td>0.600942</td>\n",
       "      <td>-0.374372</td>\n",
       "    </tr>\n",
       "    <tr>\n",
       "      <th>CRH</th>\n",
       "      <td>0.177524</td>\n",
       "      <td>0.325515</td>\n",
       "      <td>0.142291</td>\n",
       "      <td>5.071242</td>\n",
       "      <td>0.030617</td>\n",
       "      <td>0.042069</td>\n",
       "      <td>0.509562</td>\n",
       "      <td>-0.296699</td>\n",
       "    </tr>\n",
       "    <tr>\n",
       "      <th>DG</th>\n",
       "      <td>0.161539</td>\n",
       "      <td>0.232767</td>\n",
       "      <td>-0.083119</td>\n",
       "      <td>4.175379</td>\n",
       "      <td>0.022995</td>\n",
       "      <td>0.033040</td>\n",
       "      <td>0.644610</td>\n",
       "      <td>-0.209552</td>\n",
       "    </tr>\n",
       "    <tr>\n",
       "      <th>EBS</th>\n",
       "      <td>-0.372424</td>\n",
       "      <td>0.611243</td>\n",
       "      <td>-2.222502</td>\n",
       "      <td>22.935087</td>\n",
       "      <td>0.068350</td>\n",
       "      <td>0.091043</td>\n",
       "      <td>-0.619482</td>\n",
       "      <td>-0.760783</td>\n",
       "    </tr>\n",
       "    <tr>\n",
       "      <th>EDF</th>\n",
       "      <td>-0.055725</td>\n",
       "      <td>0.243612</td>\n",
       "      <td>-0.931631</td>\n",
       "      <td>7.539105</td>\n",
       "      <td>0.027247</td>\n",
       "      <td>0.039175</td>\n",
       "      <td>-0.267136</td>\n",
       "      <td>-0.383408</td>\n",
       "    </tr>\n",
       "    <tr>\n",
       "      <th>ENG</th>\n",
       "      <td>0.112925</td>\n",
       "      <td>1.517021</td>\n",
       "      <td>3.846832</td>\n",
       "      <td>29.261848</td>\n",
       "      <td>-0.028167</td>\n",
       "      <td>0.130980</td>\n",
       "      <td>0.067154</td>\n",
       "      <td>-0.902890</td>\n",
       "    </tr>\n",
       "    <tr>\n",
       "      <th>ENR</th>\n",
       "      <td>-0.125501</td>\n",
       "      <td>0.320377</td>\n",
       "      <td>-1.620762</td>\n",
       "      <td>13.649244</td>\n",
       "      <td>0.036791</td>\n",
       "      <td>0.048496</td>\n",
       "      <td>-0.418774</td>\n",
       "      <td>-0.445451</td>\n",
       "    </tr>\n",
       "    <tr>\n",
       "      <th>FBK</th>\n",
       "      <td>0.372577</td>\n",
       "      <td>0.400352</td>\n",
       "      <td>0.340064</td>\n",
       "      <td>5.484600</td>\n",
       "      <td>0.035514</td>\n",
       "      <td>0.051121</td>\n",
       "      <td>0.896710</td>\n",
       "      <td>-0.273450</td>\n",
       "    </tr>\n",
       "    <tr>\n",
       "      <th>GBUG</th>\n",
       "      <td>0.052742</td>\n",
       "      <td>0.164349</td>\n",
       "      <td>-1.066728</td>\n",
       "      <td>8.322794</td>\n",
       "      <td>0.018240</td>\n",
       "      <td>0.025260</td>\n",
       "      <td>0.257499</td>\n",
       "      <td>-0.195995</td>\n",
       "    </tr>\n",
       "    <tr>\n",
       "      <th>HEI</th>\n",
       "      <td>0.301456</td>\n",
       "      <td>0.317768</td>\n",
       "      <td>0.435797</td>\n",
       "      <td>5.236901</td>\n",
       "      <td>0.027728</td>\n",
       "      <td>0.040816</td>\n",
       "      <td>0.908148</td>\n",
       "      <td>-0.197824</td>\n",
       "    </tr>\n",
       "    <tr>\n",
       "      <th>LAND</th>\n",
       "      <td>0.627908</td>\n",
       "      <td>0.343609</td>\n",
       "      <td>0.143773</td>\n",
       "      <td>4.439918</td>\n",
       "      <td>0.031362</td>\n",
       "      <td>0.042402</td>\n",
       "      <td>1.780560</td>\n",
       "      <td>-0.179053</td>\n",
       "    </tr>\n",
       "    <tr>\n",
       "      <th>LEG</th>\n",
       "      <td>0.106771</td>\n",
       "      <td>0.400836</td>\n",
       "      <td>0.356120</td>\n",
       "      <td>7.071542</td>\n",
       "      <td>0.035471</td>\n",
       "      <td>0.054423</td>\n",
       "      <td>0.239035</td>\n",
       "      <td>-0.399482</td>\n",
       "    </tr>\n",
       "    <tr>\n",
       "      <th>NWG</th>\n",
       "      <td>0.381502</td>\n",
       "      <td>0.435873</td>\n",
       "      <td>0.158322</td>\n",
       "      <td>5.236111</td>\n",
       "      <td>0.040291</td>\n",
       "      <td>0.058286</td>\n",
       "      <td>0.843905</td>\n",
       "      <td>-0.359673</td>\n",
       "    </tr>\n",
       "    <tr>\n",
       "      <th>PSN</th>\n",
       "      <td>0.004277</td>\n",
       "      <td>0.322550</td>\n",
       "      <td>-1.136018</td>\n",
       "      <td>10.387976</td>\n",
       "      <td>0.035572</td>\n",
       "      <td>0.050247</td>\n",
       "      <td>-0.017576</td>\n",
       "      <td>-0.334819</td>\n",
       "    </tr>\n",
       "    <tr>\n",
       "      <th>SAN</th>\n",
       "      <td>0.167458</td>\n",
       "      <td>0.433848</td>\n",
       "      <td>0.473920</td>\n",
       "      <td>6.438395</td>\n",
       "      <td>0.037589</td>\n",
       "      <td>0.055725</td>\n",
       "      <td>0.359346</td>\n",
       "      <td>-0.382759</td>\n",
       "    </tr>\n",
       "    <tr>\n",
       "      <th>SRG</th>\n",
       "      <td>0.100060</td>\n",
       "      <td>0.827382</td>\n",
       "      <td>1.352993</td>\n",
       "      <td>12.933304</td>\n",
       "      <td>0.050832</td>\n",
       "      <td>0.098233</td>\n",
       "      <td>0.107759</td>\n",
       "      <td>-0.634367</td>\n",
       "    </tr>\n",
       "    <tr>\n",
       "      <th>SVT</th>\n",
       "      <td>0.258850</td>\n",
       "      <td>0.502329</td>\n",
       "      <td>1.564815</td>\n",
       "      <td>21.311034</td>\n",
       "      <td>0.023017</td>\n",
       "      <td>0.064348</td>\n",
       "      <td>0.490496</td>\n",
       "      <td>-0.297315</td>\n",
       "    </tr>\n",
       "    <tr>\n",
       "      <th>TRN</th>\n",
       "      <td>0.231750</td>\n",
       "      <td>0.385061</td>\n",
       "      <td>-0.096416</td>\n",
       "      <td>4.453935</td>\n",
       "      <td>0.038033</td>\n",
       "      <td>0.053602</td>\n",
       "      <td>0.570196</td>\n",
       "      <td>-0.239684</td>\n",
       "    </tr>\n",
       "    <tr>\n",
       "      <th>VOE</th>\n",
       "      <td>0.283434</td>\n",
       "      <td>0.200358</td>\n",
       "      <td>-0.219479</td>\n",
       "      <td>5.652905</td>\n",
       "      <td>0.019444</td>\n",
       "      <td>0.027230</td>\n",
       "      <td>1.351269</td>\n",
       "      <td>-0.139966</td>\n",
       "    </tr>\n",
       "  </tbody>\n",
       "</table>\n",
       "</div>"
      ],
      "text/plain": [
       "      Annualized Return  Annualized Vol  Skewness   Kurtosis  \\\n",
       "ACA            0.252549        0.388181 -0.233446   7.487217   \n",
       "BBVA           0.282125        0.448359  0.601813   7.299960   \n",
       "CRH            0.177524        0.325515  0.142291   5.071242   \n",
       "DG             0.161539        0.232767 -0.083119   4.175379   \n",
       "EBS           -0.372424        0.611243 -2.222502  22.935087   \n",
       "EDF           -0.055725        0.243612 -0.931631   7.539105   \n",
       "ENG            0.112925        1.517021  3.846832  29.261848   \n",
       "ENR           -0.125501        0.320377 -1.620762  13.649244   \n",
       "FBK            0.372577        0.400352  0.340064   5.484600   \n",
       "GBUG           0.052742        0.164349 -1.066728   8.322794   \n",
       "HEI            0.301456        0.317768  0.435797   5.236901   \n",
       "LAND           0.627908        0.343609  0.143773   4.439918   \n",
       "LEG            0.106771        0.400836  0.356120   7.071542   \n",
       "NWG            0.381502        0.435873  0.158322   5.236111   \n",
       "PSN            0.004277        0.322550 -1.136018  10.387976   \n",
       "SAN            0.167458        0.433848  0.473920   6.438395   \n",
       "SRG            0.100060        0.827382  1.352993  12.933304   \n",
       "SVT            0.258850        0.502329  1.564815  21.311034   \n",
       "TRN            0.231750        0.385061 -0.096416   4.453935   \n",
       "VOE            0.283434        0.200358 -0.219479   5.652905   \n",
       "\n",
       "      Cornish-Fisher VaR (5%)  Historic CVaR (5%)  Sharpe Ratio  Max Drawdown  \n",
       "ACA                  0.037725            0.050507      0.618666     -0.360106  \n",
       "BBVA                 0.036933            0.059210      0.600942     -0.374372  \n",
       "CRH                  0.030617            0.042069      0.509562     -0.296699  \n",
       "DG                   0.022995            0.033040      0.644610     -0.209552  \n",
       "EBS                  0.068350            0.091043     -0.619482     -0.760783  \n",
       "EDF                  0.027247            0.039175     -0.267136     -0.383408  \n",
       "ENG                 -0.028167            0.130980      0.067154     -0.902890  \n",
       "ENR                  0.036791            0.048496     -0.418774     -0.445451  \n",
       "FBK                  0.035514            0.051121      0.896710     -0.273450  \n",
       "GBUG                 0.018240            0.025260      0.257499     -0.195995  \n",
       "HEI                  0.027728            0.040816      0.908148     -0.197824  \n",
       "LAND                 0.031362            0.042402      1.780560     -0.179053  \n",
       "LEG                  0.035471            0.054423      0.239035     -0.399482  \n",
       "NWG                  0.040291            0.058286      0.843905     -0.359673  \n",
       "PSN                  0.035572            0.050247     -0.017576     -0.334819  \n",
       "SAN                  0.037589            0.055725      0.359346     -0.382759  \n",
       "SRG                  0.050832            0.098233      0.107759     -0.634367  \n",
       "SVT                  0.023017            0.064348      0.490496     -0.297315  \n",
       "TRN                  0.038033            0.053602      0.570196     -0.239684  \n",
       "VOE                  0.019444            0.027230      1.351269     -0.139966  "
      ]
     },
     "execution_count": 37,
     "metadata": {},
     "output_type": "execute_result"
    }
   ],
   "source": [
    "#importlib.reload(edhec_risk_kit_207)\n",
    "erk.summary_stats(rets.dropna(), RISKFREE_RATE, PERIODS_PER_YEAR)"
   ]
  },
  {
   "cell_type": "code",
   "execution_count": 38,
   "metadata": {},
   "outputs": [],
   "source": [
    "ew = erk.weight_ew(rets)"
   ]
  },
  {
   "cell_type": "code",
   "execution_count": 40,
   "metadata": {},
   "outputs": [
    {
     "data": {
      "text/plain": [
       "ISSUER_TICKER\n",
       "ACA     0.0\n",
       "CRH     0.0\n",
       "GBUG   -0.5\n",
       "ENG    -0.5\n",
       "VOE    -0.5\n",
       "SVT    -0.5\n",
       "EDF    -1.0\n",
       "HEI     0.0\n",
       "EBS     0.0\n",
       "BBVA    0.0\n",
       "SAN    -0.5\n",
       "LAND    5.0\n",
       "PSN     2.0\n",
       "NWG     0.0\n",
       "SRG    -0.5\n",
       "TRN     0.0\n",
       "DG      1.5\n",
       "LEG     5.0\n",
       "FBK     0.0\n",
       "ENR    -2.0\n",
       "Name: SDG_11_NET_ALIGNMENT_SCORE, dtype: float64"
      ]
     },
     "execution_count": 40,
     "metadata": {},
     "output_type": "execute_result"
    }
   ],
   "source": [
    "esg"
   ]
  },
  {
   "cell_type": "code",
   "execution_count": 41,
   "metadata": {},
   "outputs": [
    {
     "data": {
      "text/plain": [
       "0.375"
      ]
     },
     "execution_count": 41,
     "metadata": {},
     "output_type": "execute_result"
    }
   ],
   "source": [
    "erk.portfolio_esg(ew, esg)"
   ]
  },
  {
   "cell_type": "code",
   "execution_count": 56,
   "metadata": {},
   "outputs": [],
   "source": [
    "TARGET_ESG = 2"
   ]
  },
  {
   "cell_type": "code",
   "execution_count": 57,
   "metadata": {},
   "outputs": [
    {
     "data": {
      "text/plain": [
       "<matplotlib.axes._subplots.AxesSubplot at 0x28810fc2dc8>"
      ]
     },
     "execution_count": 57,
     "metadata": {},
     "output_type": "execute_result"
    },
    {
     "data": {
      "image/png": "[encoded data removed]",
      "text/plain": [
       "<Figure size 432x288 with 1 Axes>"
      ]
     },
     "metadata": {
      "needs_background": "light"
     },
     "output_type": "display_data"
    }
   ],
   "source": [
    "sdg_weights = erk.minimize_vol_esg(TARGET_ESG, esg, rets[:'2021-05'].cov())\n",
    "\n",
    "pd.DataFrame(sdg_weights, index=rets.columns, columns=['weight']).sort_values(by='weight', ascending=False)[:10].plot(kind='bar')"
   ]
  },
  {
   "cell_type": "code",
   "execution_count": 66,
   "metadata": {},
   "outputs": [
    {
     "data": {
      "text/plain": [
       "<matplotlib.axes._subplots.AxesSubplot at 0x28812410488>"
      ]
     },
     "execution_count": 66,
     "metadata": {},
     "output_type": "execute_result"
    },
    {
     "data": {
      "image/png": "[encoded data removed]",
      "text/plain": [
       "<Figure size 720x360 with 1 Axes>"
      ]
     },
     "metadata": {
      "needs_background": "light"
     },
     "output_type": "display_data"
    }
   ],
   "source": [
    "our = 100*(1+erk.portfolio_return(sdg_weights, rets.T)).to_frame('portfolio')['2021-05':].cumprod().dropna()\n",
    "benchmark = 100*(1+erk.portfolio_return(ew, rets.T)).to_frame('benchmark')['2021-05':].cumprod().dropna()\n",
    "\n",
    "our.merge(benchmark, how='inner', left_index=True, right_index=True).plot(figsize=(10, 5))"
   ]
  },
  {
   "cell_type": "code",
   "execution_count": 77,
   "metadata": {},
   "outputs": [
    {
     "data": {
      "text/plain": [
       "28.77"
      ]
     },
     "execution_count": 77,
     "metadata": {},
     "output_type": "execute_result"
    }
   ],
   "source": [
    "fp_return = erk.annualize_rets(erk.portfolio_return(sdg_weights, rets['2021-05':].T), PERIODS_PER_YEAR).round(4)*100\n",
    "fp_return"
   ]
  },
  {
   "cell_type": "code",
   "execution_count": 78,
   "metadata": {},
   "outputs": [
    {
     "data": {
      "text/plain": [
       "15.175738107319953"
      ]
     },
     "execution_count": 78,
     "metadata": {},
     "output_type": "execute_result"
    }
   ],
   "source": [
    "fp_vol = erk.annualize_vol(erk.portfolio_return(sdg_weights, rets['2021-05':].T), PERIODS_PER_YEAR)*100\n",
    "fp_vol "
   ]
  },
  {
   "cell_type": "code",
   "execution_count": 52,
   "metadata": {},
   "outputs": [
    {
     "data": {
      "text/plain": [
       "2.0"
      ]
     },
     "execution_count": 52,
     "metadata": {},
     "output_type": "execute_result"
    }
   ],
   "source": [
    "erk.portfolio_esg(sdg_weights, esg).round(2)"
   ]
  },
  {
   "cell_type": "code",
   "execution_count": 82,
   "metadata": {},
   "outputs": [
    {
     "data": {
      "text/html": [
       "<div>\n",
       "<style scoped>\n",
       "    .dataframe tbody tr th:only-of-type {\n",
       "        vertical-align: middle;\n",
       "    }\n",
       "\n",
       "    .dataframe tbody tr th {\n",
       "        vertical-align: top;\n",
       "    }\n",
       "\n",
       "    .dataframe thead th {\n",
       "        text-align: right;\n",
       "    }\n",
       "</style>\n",
       "<table border=\"1\" class=\"dataframe\">\n",
       "  <thead>\n",
       "    <tr style=\"text-align: right;\">\n",
       "      <th></th>\n",
       "      <th>(%) weight</th>\n",
       "      <th>ISSUER_NAME</th>\n",
       "      <th>GICS_SUB_IND</th>\n",
       "      <th>SDG-11</th>\n",
       "      <th>ESG-score</th>\n",
       "      <th>% Revenue spent on green</th>\n",
       "      <th>OPPS_GREEN_BUILDING_EXP_SCORE</th>\n",
       "    </tr>\n",
       "  </thead>\n",
       "  <tbody>\n",
       "    <tr>\n",
       "      <th>GBUG</th>\n",
       "      <td>36.5</td>\n",
       "      <td>BARCLAYS PLC</td>\n",
       "      <td>Diversified Banks</td>\n",
       "      <td>-0.5</td>\n",
       "      <td>8.57</td>\n",
       "      <td>NaN</td>\n",
       "      <td>NaN</td>\n",
       "    </tr>\n",
       "    <tr>\n",
       "      <th>LAND</th>\n",
       "      <td>27.7</td>\n",
       "      <td>LAND SECURITIES GROUP PLC</td>\n",
       "      <td>Diversified REITs</td>\n",
       "      <td>5.0</td>\n",
       "      <td>8.40</td>\n",
       "      <td>50.25</td>\n",
       "      <td>6.7</td>\n",
       "    </tr>\n",
       "    <tr>\n",
       "      <th>DG</th>\n",
       "      <td>19.0</td>\n",
       "      <td>VINCI SA</td>\n",
       "      <td>Construction &amp; Engineering</td>\n",
       "      <td>1.5</td>\n",
       "      <td>6.00</td>\n",
       "      <td>7.97</td>\n",
       "      <td>0.2</td>\n",
       "    </tr>\n",
       "    <tr>\n",
       "      <th>SVT</th>\n",
       "      <td>13.2</td>\n",
       "      <td>SEVERN TRENT PLC</td>\n",
       "      <td>Water Utilities</td>\n",
       "      <td>-0.5</td>\n",
       "      <td>7.70</td>\n",
       "      <td>NaN</td>\n",
       "      <td>NaN</td>\n",
       "    </tr>\n",
       "    <tr>\n",
       "      <th>LEG</th>\n",
       "      <td>2.7</td>\n",
       "      <td>LEG Immobilien SE</td>\n",
       "      <td>Real Estate Operating Companies</td>\n",
       "      <td>5.0</td>\n",
       "      <td>8.20</td>\n",
       "      <td>NaN</td>\n",
       "      <td>4.9</td>\n",
       "    </tr>\n",
       "    <tr>\n",
       "      <th>BBVA</th>\n",
       "      <td>1.0</td>\n",
       "      <td>Banco Bilbao Vizcaya Argentaria, S.A.</td>\n",
       "      <td>Diversified Banks</td>\n",
       "      <td>0.0</td>\n",
       "      <td>10.00</td>\n",
       "      <td>NaN</td>\n",
       "      <td>NaN</td>\n",
       "    </tr>\n",
       "    <tr>\n",
       "      <th>TRN</th>\n",
       "      <td>0.0</td>\n",
       "      <td>TERNA - RETE ELETTRICA NAZIONALE SOCIETA PER A...</td>\n",
       "      <td>Electric Utilities</td>\n",
       "      <td>0.0</td>\n",
       "      <td>8.20</td>\n",
       "      <td>NaN</td>\n",
       "      <td>NaN</td>\n",
       "    </tr>\n",
       "    <tr>\n",
       "      <th>SRG</th>\n",
       "      <td>0.0</td>\n",
       "      <td>SNAM S.P.A.</td>\n",
       "      <td>Gas Utilities</td>\n",
       "      <td>-0.5</td>\n",
       "      <td>6.70</td>\n",
       "      <td>NaN</td>\n",
       "      <td>NaN</td>\n",
       "    </tr>\n",
       "  </tbody>\n",
       "</table>\n",
       "</div>"
      ],
      "text/plain": [
       "      (%) weight                                        ISSUER_NAME  \\\n",
       "GBUG        36.5                                       BARCLAYS PLC   \n",
       "LAND        27.7                          LAND SECURITIES GROUP PLC   \n",
       "DG          19.0                                           VINCI SA   \n",
       "SVT         13.2                                   SEVERN TRENT PLC   \n",
       "LEG          2.7                                  LEG Immobilien SE   \n",
       "BBVA         1.0              Banco Bilbao Vizcaya Argentaria, S.A.   \n",
       "TRN          0.0  TERNA - RETE ELETTRICA NAZIONALE SOCIETA PER A...   \n",
       "SRG          0.0                                        SNAM S.P.A.   \n",
       "\n",
       "                         GICS_SUB_IND  SDG-11  ESG-score  \\\n",
       "GBUG                Diversified Banks    -0.5       8.57   \n",
       "LAND                Diversified REITs     5.0       8.40   \n",
       "DG         Construction & Engineering     1.5       6.00   \n",
       "SVT                   Water Utilities    -0.5       7.70   \n",
       "LEG   Real Estate Operating Companies     5.0       8.20   \n",
       "BBVA                Diversified Banks     0.0      10.00   \n",
       "TRN                Electric Utilities     0.0       8.20   \n",
       "SRG                     Gas Utilities    -0.5       6.70   \n",
       "\n",
       "      % Revenue spent on green  OPPS_GREEN_BUILDING_EXP_SCORE  \n",
       "GBUG                       NaN                            NaN  \n",
       "LAND                     50.25                            6.7  \n",
       "DG                        7.97                            0.2  \n",
       "SVT                        NaN                            NaN  \n",
       "LEG                        NaN                            4.9  \n",
       "BBVA                       NaN                            NaN  \n",
       "TRN                        NaN                            NaN  \n",
       "SRG                        NaN                            NaN  "
      ]
     },
     "execution_count": 82,
     "metadata": {},
     "output_type": "execute_result"
    }
   ],
   "source": [
    "final_portfolio = pd.DataFrame(sdg_weights, index=rets.columns, columns=['weight']).sort_values(by='weight', ascending=False)[:8]\n",
    "\n",
    "import numpy as np\n",
    "fp = final_portfolio.merge(excel[['ISSUER_NAME', 'GICS_SUB_IND', 'ISSUER_TICKER', 'SDG_11_NET_ALIGNMENT_SCORE', 'INDUSTRY_ADJUSTED_SCORE', 'CT_GREEN_BLDG_MAX_REV', 'OPPS_GREEN_BUILDING_EXP_SCORE']].set_index('ISSUER_TICKER'), how='left', left_index=True, right_index=True)\n",
    "fp.weight = fp.weight*100\n",
    "fp.weight = fp.weight.round(1)\n",
    "fp.rename(columns={'SDG_11_NET_ALIGNMENT_SCORE': 'SDG-11', 'INDUSTRY_ADJUSTED_SCORE' : 'ESG-score', 'CT_GREEN_BLDG_MAX_REV': '% Revenue spent on green', 'weight':'(%) weight'}, inplace=True)\n",
    "fp.loc[fp['% Revenue spent on green']==0,'% Revenue spent on green'] = np.nan\n",
    "fp.loc[fp['OPPS_GREEN_BUILDING_EXP_SCORE']==0,'OPPS_GREEN_BUILDING_EXP_SCORE'] = np.nan\n",
    "\n",
    "fp"
   ]
  },
  {
   "cell_type": "code",
   "execution_count": 74,
   "metadata": {},
   "outputs": [
    {
     "data": {
      "text/plain": [
       "<matplotlib.axes._subplots.AxesSubplot at 0x28812626288>"
      ]
     },
     "execution_count": 74,
     "metadata": {},
     "output_type": "execute_result"
    },
    {
     "data": {
      "image/png": "[encoded data removed]",
      "text/plain": [
       "<Figure size 432x288 with 1 Axes>"
      ]
     },
     "metadata": {
      "needs_background": "light"
     },
     "output_type": "display_data"
    }
   ],
   "source": [
    "msr_esg_weights = erk.msr_esg(RISKFREE_RATE, er_train, rets[:'2021-05'].cov(), esg, TARGET_ESG)\n",
    "\n",
    "pd.DataFrame(msr_esg_weights, index=rets.columns, columns=['weight']).sort_values(by='weight', ascending=False)[:10].plot(kind='bar')"
   ]
  },
  {
   "cell_type": "code",
   "execution_count": 75,
   "metadata": {},
   "outputs": [
    {
     "data": {
      "text/plain": [
       "<matplotlib.axes._subplots.AxesSubplot at 0x288126d1948>"
      ]
     },
     "execution_count": 75,
     "metadata": {},
     "output_type": "execute_result"
    },
    {
     "data": {
      "image/png": "[encoded data removed]",
      "text/plain": [
       "<Figure size 720x360 with 1 Axes>"
      ]
     },
     "metadata": {
      "needs_background": "light"
     },
     "output_type": "display_data"
    }
   ],
   "source": [
    "our = 100*(1+erk.portfolio_return(msr_esg_weights, rets.T)).to_frame('portfolio')['2021-05':].cumprod().dropna()\n",
    "benchmark = 100*(1+erk.portfolio_return(ew, rets.T)).to_frame('benchmark')['2021-05':].cumprod().dropna()\n",
    "\n",
    "our.merge(benchmark, how='inner', left_index=True, right_index=True).plot(figsize=(10, 5))"
   ]
  },
  {
   "cell_type": "code",
   "execution_count": 79,
   "metadata": {},
   "outputs": [
    {
     "data": {
      "text/plain": [
       "22.97"
      ]
     },
     "execution_count": 79,
     "metadata": {},
     "output_type": "execute_result"
    }
   ],
   "source": [
    "fp_return = erk.annualize_rets(erk.portfolio_return(msr_esg_weights, rets['2021-05':].T), PERIODS_PER_YEAR).round(4)*100\n",
    "fp_return"
   ]
  },
  {
   "cell_type": "code",
   "execution_count": 80,
   "metadata": {},
   "outputs": [
    {
     "data": {
      "text/plain": [
       "20.925421027188836"
      ]
     },
     "execution_count": 80,
     "metadata": {},
     "output_type": "execute_result"
    }
   ],
   "source": [
    "fp_vol = erk.annualize_vol(erk.portfolio_return(msr_esg_weights, rets['2021-05':].T), PERIODS_PER_YEAR)*100\n",
    "fp_vol "
   ]
  },
  {
   "cell_type": "code",
   "execution_count": 81,
   "metadata": {},
   "outputs": [
    {
     "data": {
      "text/plain": [
       "2.0"
      ]
     },
     "execution_count": 81,
     "metadata": {},
     "output_type": "execute_result"
    }
   ],
   "source": [
    "erk.portfolio_esg(msr_esg_weights, esg).round(2)"
   ]
  },
  {
   "cell_type": "code",
   "execution_count": 84,
   "metadata": {},
   "outputs": [
    {
     "data": {
      "text/html": [
       "<div>\n",
       "<style scoped>\n",
       "    .dataframe tbody tr th:only-of-type {\n",
       "        vertical-align: middle;\n",
       "    }\n",
       "\n",
       "    .dataframe tbody tr th {\n",
       "        vertical-align: top;\n",
       "    }\n",
       "\n",
       "    .dataframe thead th {\n",
       "        text-align: right;\n",
       "    }\n",
       "</style>\n",
       "<table border=\"1\" class=\"dataframe\">\n",
       "  <thead>\n",
       "    <tr style=\"text-align: right;\">\n",
       "      <th></th>\n",
       "      <th>(%) weight</th>\n",
       "      <th>ISSUER_NAME</th>\n",
       "      <th>GICS_SUB_IND</th>\n",
       "      <th>SDG-11</th>\n",
       "      <th>ESG-score</th>\n",
       "      <th>% Revenue spent on green</th>\n",
       "      <th>OPPS_GREEN_BUILDING_EXP_SCORE</th>\n",
       "    </tr>\n",
       "  </thead>\n",
       "  <tbody>\n",
       "    <tr>\n",
       "      <th>LAND</th>\n",
       "      <td>32.1</td>\n",
       "      <td>LAND SECURITIES GROUP PLC</td>\n",
       "      <td>Diversified REITs</td>\n",
       "      <td>5.0</td>\n",
       "      <td>8.4</td>\n",
       "      <td>50.25</td>\n",
       "      <td>6.7</td>\n",
       "    </tr>\n",
       "    <tr>\n",
       "      <th>DG</th>\n",
       "      <td>21.4</td>\n",
       "      <td>VINCI SA</td>\n",
       "      <td>Construction &amp; Engineering</td>\n",
       "      <td>1.5</td>\n",
       "      <td>6.0</td>\n",
       "      <td>7.97</td>\n",
       "      <td>0.2</td>\n",
       "    </tr>\n",
       "    <tr>\n",
       "      <th>FBK</th>\n",
       "      <td>17.4</td>\n",
       "      <td>FINECOBANK BANCA FINECO S.P.A.</td>\n",
       "      <td>Diversified Banks</td>\n",
       "      <td>0.0</td>\n",
       "      <td>6.6</td>\n",
       "      <td>NaN</td>\n",
       "      <td>NaN</td>\n",
       "    </tr>\n",
       "    <tr>\n",
       "      <th>SVT</th>\n",
       "      <td>11.1</td>\n",
       "      <td>SEVERN TRENT PLC</td>\n",
       "      <td>Water Utilities</td>\n",
       "      <td>-0.5</td>\n",
       "      <td>7.7</td>\n",
       "      <td>NaN</td>\n",
       "      <td>NaN</td>\n",
       "    </tr>\n",
       "    <tr>\n",
       "      <th>BBVA</th>\n",
       "      <td>7.7</td>\n",
       "      <td>Banco Bilbao Vizcaya Argentaria, S.A.</td>\n",
       "      <td>Diversified Banks</td>\n",
       "      <td>0.0</td>\n",
       "      <td>10.0</td>\n",
       "      <td>NaN</td>\n",
       "      <td>NaN</td>\n",
       "    </tr>\n",
       "    <tr>\n",
       "      <th>ENG</th>\n",
       "      <td>4.5</td>\n",
       "      <td>Enagas, S.A.</td>\n",
       "      <td>Gas Utilities</td>\n",
       "      <td>-0.5</td>\n",
       "      <td>7.4</td>\n",
       "      <td>NaN</td>\n",
       "      <td>NaN</td>\n",
       "    </tr>\n",
       "    <tr>\n",
       "      <th>ACA</th>\n",
       "      <td>2.9</td>\n",
       "      <td>CREDIT AGRICOLE SA</td>\n",
       "      <td>Diversified Banks</td>\n",
       "      <td>0.0</td>\n",
       "      <td>7.1</td>\n",
       "      <td>NaN</td>\n",
       "      <td>NaN</td>\n",
       "    </tr>\n",
       "    <tr>\n",
       "      <th>NWG</th>\n",
       "      <td>1.5</td>\n",
       "      <td>NATWEST GROUP PLC</td>\n",
       "      <td>Diversified Banks</td>\n",
       "      <td>0.0</td>\n",
       "      <td>8.5</td>\n",
       "      <td>NaN</td>\n",
       "      <td>NaN</td>\n",
       "    </tr>\n",
       "  </tbody>\n",
       "</table>\n",
       "</div>"
      ],
      "text/plain": [
       "      (%) weight                            ISSUER_NAME  \\\n",
       "LAND        32.1              LAND SECURITIES GROUP PLC   \n",
       "DG          21.4                               VINCI SA   \n",
       "FBK         17.4         FINECOBANK BANCA FINECO S.P.A.   \n",
       "SVT         11.1                       SEVERN TRENT PLC   \n",
       "BBVA         7.7  Banco Bilbao Vizcaya Argentaria, S.A.   \n",
       "ENG          4.5                           Enagas, S.A.   \n",
       "ACA          2.9                     CREDIT AGRICOLE SA   \n",
       "NWG          1.5                      NATWEST GROUP PLC   \n",
       "\n",
       "                    GICS_SUB_IND  SDG-11  ESG-score  % Revenue spent on green  \\\n",
       "LAND           Diversified REITs     5.0        8.4                     50.25   \n",
       "DG    Construction & Engineering     1.5        6.0                      7.97   \n",
       "FBK            Diversified Banks     0.0        6.6                       NaN   \n",
       "SVT              Water Utilities    -0.5        7.7                       NaN   \n",
       "BBVA           Diversified Banks     0.0       10.0                       NaN   \n",
       "ENG                Gas Utilities    -0.5        7.4                       NaN   \n",
       "ACA            Diversified Banks     0.0        7.1                       NaN   \n",
       "NWG            Diversified Banks     0.0        8.5                       NaN   \n",
       "\n",
       "      OPPS_GREEN_BUILDING_EXP_SCORE  \n",
       "LAND                            6.7  \n",
       "DG                              0.2  \n",
       "FBK                             NaN  \n",
       "SVT                             NaN  \n",
       "BBVA                            NaN  \n",
       "ENG                             NaN  \n",
       "ACA                             NaN  \n",
       "NWG                             NaN  "
      ]
     },
     "execution_count": 84,
     "metadata": {},
     "output_type": "execute_result"
    }
   ],
   "source": [
    "final_portfolio = pd.DataFrame(msr_esg_weights, index=rets.columns, columns=['weight']).sort_values(by='weight', ascending=False)[:8]\n",
    "\n",
    "import numpy as np\n",
    "fp = final_portfolio.merge(excel[['ISSUER_NAME', 'GICS_SUB_IND', 'ISSUER_TICKER', 'SDG_11_NET_ALIGNMENT_SCORE', 'INDUSTRY_ADJUSTED_SCORE', 'CT_GREEN_BLDG_MAX_REV', 'OPPS_GREEN_BUILDING_EXP_SCORE']].set_index('ISSUER_TICKER'), how='left', left_index=True, right_index=True)\n",
    "fp.weight = fp.weight*100\n",
    "fp.weight = fp.weight.round(1)\n",
    "fp.rename(columns={'SDG_11_NET_ALIGNMENT_SCORE': 'SDG-11', 'INDUSTRY_ADJUSTED_SCORE' : 'ESG-score', 'CT_GREEN_BLDG_MAX_REV': '% Revenue spent on green', 'weight':'(%) weight'}, inplace=True)\n",
    "fp.loc[fp['% Revenue spent on green']==0,'% Revenue spent on green'] = np.nan\n",
    "fp.loc[fp['OPPS_GREEN_BUILDING_EXP_SCORE']==0,'OPPS_GREEN_BUILDING_EXP_SCORE'] = np.nan\n",
    "\n",
    "fp"
   ]
  },
  {
   "cell_type": "code",
   "execution_count": null,
   "metadata": {},
   "outputs": [],
   "source": []
  },
  {
   "cell_type": "code",
   "execution_count": null,
   "metadata": {},
   "outputs": [],
   "source": []
  },
  {
   "cell_type": "code",
   "execution_count": null,
   "metadata": {},
   "outputs": [],
   "source": []
  },
  {
   "cell_type": "code",
   "execution_count": null,
   "metadata": {},
   "outputs": [],
   "source": []
  },
  {
   "cell_type": "code",
   "execution_count": 87,
   "metadata": {},
   "outputs": [],
   "source": [
    "#pd.DataFrame(erk.minimize_vol(0.5, er, rets.cov()), index=rets.columns, columns=['weight']).sort_values(by='weight', ascending=False)[:10].plot(kind='bar')"
   ]
  },
  {
   "cell_type": "code",
   "execution_count": 86,
   "metadata": {},
   "outputs": [],
   "source": [
    "#pd.DataFrame(erk.msr(RISKFREE_RATE, er, rets.cov()), index=rets.columns, columns=['weight']).sort_values(by='weight', ascending=False)[:10].plot(kind='bar')"
   ]
  },
  {
   "cell_type": "code",
   "execution_count": 85,
   "metadata": {},
   "outputs": [],
   "source": [
    "#pd.DataFrame(erk.gmv(rets.cov()), index=rets.columns, columns=['weight']).sort_values(by='weight', ascending=False)[:10].plot(kind='bar')"
   ]
  },
  {
   "cell_type": "code",
   "execution_count": null,
   "metadata": {},
   "outputs": [],
   "source": []
  }
 ],
 "metadata": {
  "kernelspec": {
   "display_name": "Python 3",
   "language": "python",
   "name": "python3"
  },
  "language_info": {
   "codemirror_mode": {
    "name": "ipython",
    "version": 3
   },
   "file_extension": ".py",
   "mimetype": "text/x-python",
   "name": "python",
   "nbconvert_exporter": "python",
   "pygments_lexer": "ipython3",
   "version": "3.7.6"
  }
 },
 "nbformat": 4,
 "nbformat_minor": 4
}
